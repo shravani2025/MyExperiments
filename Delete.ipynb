{
 "cells": [
  {
   "cell_type": "code",
   "execution_count": 1,
   "id": "beb710d2",
   "metadata": {},
   "outputs": [],
   "source": [
    "x=\"Rana\""
   ]
  },
  {
   "cell_type": "code",
   "execution_count": 2,
   "id": "86177b87",
   "metadata": {},
   "outputs": [
    {
     "data": {
      "text/plain": [
       "str"
      ]
     },
     "execution_count": 2,
     "metadata": {},
     "output_type": "execute_result"
    }
   ],
   "source": [
    "type(x)"
   ]
  },
  {
   "cell_type": "code",
   "execution_count": 3,
   "id": "9259a522",
   "metadata": {},
   "outputs": [
    {
     "data": {
      "text/plain": [
       "'rana'"
      ]
     },
     "execution_count": 3,
     "metadata": {},
     "output_type": "execute_result"
    }
   ],
   "source": [
    "x.lower()"
   ]
  },
  {
   "cell_type": "code",
   "execution_count": 4,
   "id": "a1fa2645",
   "metadata": {},
   "outputs": [
    {
     "data": {
      "text/plain": [
       "'RANA'"
      ]
     },
     "execution_count": 4,
     "metadata": {},
     "output_type": "execute_result"
    }
   ],
   "source": [
    "x.upper()"
   ]
  },
  {
   "cell_type": "code",
   "execution_count": 5,
   "id": "85b27b84",
   "metadata": {},
   "outputs": [
    {
     "data": {
      "text/plain": [
       "['Rana']"
      ]
     },
     "execution_count": 5,
     "metadata": {},
     "output_type": "execute_result"
    }
   ],
   "source": [
    "x.split()\n",
    "x.rsplit()\n",
    "x.split()"
   ]
  },
  {
   "cell_type": "code",
   "execution_count": 6,
   "id": "09543b9d",
   "metadata": {},
   "outputs": [
    {
     "data": {
      "text/plain": [
       "'anaR'"
      ]
     },
     "execution_count": 6,
     "metadata": {},
     "output_type": "execute_result"
    }
   ],
   "source": [
    "x[::-1]"
   ]
  },
  {
   "cell_type": "code",
   "execution_count": 7,
   "id": "cfa1f50f",
   "metadata": {},
   "outputs": [
    {
     "data": {
      "text/plain": [
       "'Ra'"
      ]
     },
     "execution_count": 7,
     "metadata": {},
     "output_type": "execute_result"
    }
   ],
   "source": [
    "x[0:2]"
   ]
  },
  {
   "cell_type": "code",
   "execution_count": 8,
   "id": "2348815f",
   "metadata": {},
   "outputs": [
    {
     "data": {
      "text/plain": [
       "'n'"
      ]
     },
     "execution_count": 8,
     "metadata": {},
     "output_type": "execute_result"
    }
   ],
   "source": [
    "x[2]"
   ]
  },
  {
   "cell_type": "code",
   "execution_count": 12,
   "id": "2b0021e9",
   "metadata": {},
   "outputs": [
    {
     "name": "stdout",
     "output_type": "stream",
     "text": [
      "hi\n"
     ]
    }
   ],
   "source": [
    "print(\"hi\")"
   ]
  },
  {
   "cell_type": "code",
   "execution_count": 13,
   "id": "2b03e679",
   "metadata": {},
   "outputs": [
    {
     "data": {
      "text/plain": [
       "4"
      ]
     },
     "execution_count": 13,
     "metadata": {},
     "output_type": "execute_result"
    }
   ],
   "source": [
    "len(x)"
   ]
  },
  {
   "cell_type": "code",
   "execution_count": 14,
   "id": "aca29e8d",
   "metadata": {},
   "outputs": [],
   "source": [
    "y=[1,2,3]"
   ]
  },
  {
   "cell_type": "code",
   "execution_count": 15,
   "id": "28e42f00",
   "metadata": {},
   "outputs": [
    {
     "data": {
      "text/plain": [
       "list"
      ]
     },
     "execution_count": 15,
     "metadata": {},
     "output_type": "execute_result"
    }
   ],
   "source": [
    "type(y)"
   ]
  },
  {
   "cell_type": "code",
   "execution_count": 16,
   "id": "b26a2c36",
   "metadata": {},
   "outputs": [],
   "source": [
    "z={1,2,3,4}"
   ]
  },
  {
   "cell_type": "code",
   "execution_count": 17,
   "id": "ecaae875",
   "metadata": {},
   "outputs": [
    {
     "data": {
      "text/plain": [
       "set"
      ]
     },
     "execution_count": 17,
     "metadata": {},
     "output_type": "execute_result"
    }
   ],
   "source": [
    "type(z)"
   ]
  },
  {
   "cell_type": "code",
   "execution_count": 19,
   "id": "63da1ab2",
   "metadata": {},
   "outputs": [],
   "source": [
    "b={x:y}"
   ]
  },
  {
   "cell_type": "code",
   "execution_count": 20,
   "id": "d85d1c4d",
   "metadata": {},
   "outputs": [
    {
     "data": {
      "text/plain": [
       "dict"
      ]
     },
     "execution_count": 20,
     "metadata": {},
     "output_type": "execute_result"
    }
   ],
   "source": [
    "type(b)"
   ]
  },
  {
   "cell_type": "code",
   "execution_count": 51,
   "id": "ae8005c8",
   "metadata": {},
   "outputs": [
    {
     "name": "stdout",
     "output_type": "stream",
     "text": [
      "Select Option\n",
      "1.Addition\n",
      "2.Subtraction\n",
      "3.Divison\n",
      "4.Multiply\n"
     ]
    }
   ],
   "source": [
    "def calulator ():\n",
    "    x=int(input(\"Enter the first value\"))\n",
    "    y=int(input(\"Enter the second value\"))\n",
    "    \n",
    "    cal_c=input(\"Select Option\")\n",
    "\n",
    "    if cal_c == \"1\":\n",
    "        print(\"Addn of %s,%s is %s\" %(x,y,x+y))\n",
    "    elif cal_c == \"2\":\n",
    "        print(\"Subn of %s,%s is %s\" %(x,y,x-y))\n",
    "    elif cal_c == \"3\":\n",
    "        print(\"Division of %s,%s is %s\" %(x,y,x/y))\n",
    "    elif cal_c == \"4\":\n",
    "        print(\"Muln of %ss,%s is %s\" %(x,y,x*y))\n",
    "\n",
    "print(\"Select Option\")\n",
    "print(\"1.Addition\")\n",
    "print(\"2.Subtraction\")\n",
    "print(\"3.Divison\")\n",
    "print(\"4.Multiply\")"
   ]
  },
  {
   "cell_type": "code",
   "execution_count": 52,
   "id": "2da8718a",
   "metadata": {},
   "outputs": [
    {
     "name": "stdout",
     "output_type": "stream",
     "text": [
      "Enter the first value3\n",
      "Enter the second value4\n",
      "Select Option2\n",
      "Subn of 3,4 is -1\n"
     ]
    }
   ],
   "source": [
    "calulator()"
   ]
  },
  {
   "cell_type": "code",
   "execution_count": 1,
   "id": "29b644cd",
   "metadata": {},
   "outputs": [],
   "source": [
    "x=\"a\""
   ]
  },
  {
   "cell_type": "code",
   "execution_count": 2,
   "id": "a7f74a51",
   "metadata": {},
   "outputs": [
    {
     "data": {
      "text/plain": [
       "'a'"
      ]
     },
     "execution_count": 2,
     "metadata": {},
     "output_type": "execute_result"
    }
   ],
   "source": [
    "x"
   ]
  },
  {
   "cell_type": "code",
   "execution_count": 3,
   "id": "503a9dab",
   "metadata": {},
   "outputs": [
    {
     "data": {
      "text/plain": [
       "2816692626928"
      ]
     },
     "execution_count": 3,
     "metadata": {},
     "output_type": "execute_result"
    }
   ],
   "source": [
    "id(x)"
   ]
  },
  {
   "cell_type": "code",
   "execution_count": 5,
   "id": "ea8bd3b9",
   "metadata": {},
   "outputs": [
    {
     "data": {
      "text/plain": [
       "2816692626928"
      ]
     },
     "execution_count": 5,
     "metadata": {},
     "output_type": "execute_result"
    }
   ],
   "source": [
    "id(\"a\")"
   ]
  },
  {
   "cell_type": "code",
   "execution_count": 8,
   "id": "ba4c9e73",
   "metadata": {},
   "outputs": [],
   "source": [
    "x=\"y\""
   ]
  },
  {
   "cell_type": "code",
   "execution_count": 12,
   "id": "6bb9d02f",
   "metadata": {},
   "outputs": [
    {
     "name": "stdout",
     "output_type": "stream",
     "text": [
      "y\n"
     ]
    }
   ],
   "source": [
    "print(x)"
   ]
  },
  {
   "cell_type": "code",
   "execution_count": 13,
   "id": "32225b08",
   "metadata": {},
   "outputs": [
    {
     "data": {
      "text/plain": [
       "2816692549552"
      ]
     },
     "execution_count": 13,
     "metadata": {},
     "output_type": "execute_result"
    }
   ],
   "source": [
    "id(x)"
   ]
  },
  {
   "cell_type": "code",
   "execution_count": 15,
   "id": "c7c1cfb9",
   "metadata": {},
   "outputs": [
    {
     "data": {
      "text/plain": [
       "2816692626928"
      ]
     },
     "execution_count": 15,
     "metadata": {},
     "output_type": "execute_result"
    }
   ],
   "source": [
    "id(\"a\")"
   ]
  },
  {
   "cell_type": "code",
   "execution_count": 28,
   "id": "9ee2d957",
   "metadata": {},
   "outputs": [],
   "source": [
    "# !pip install pandas\n",
    "\n",
    "import pandas as pd"
   ]
  },
  {
   "cell_type": "code",
   "execution_count": 30,
   "id": "f6b39296",
   "metadata": {},
   "outputs": [
    {
     "data": {
      "text/html": [
       "<div>\n",
       "<style scoped>\n",
       "    .dataframe tbody tr th:only-of-type {\n",
       "        vertical-align: middle;\n",
       "    }\n",
       "\n",
       "    .dataframe tbody tr th {\n",
       "        vertical-align: top;\n",
       "    }\n",
       "\n",
       "    .dataframe thead th {\n",
       "        text-align: right;\n",
       "    }\n",
       "</style>\n",
       "<table border=\"1\" class=\"dataframe\">\n",
       "  <thead>\n",
       "    <tr style=\"text-align: right;\">\n",
       "      <th></th>\n",
       "      <th>Name</th>\n",
       "      <th>Age</th>\n",
       "    </tr>\n",
       "  </thead>\n",
       "  <tbody>\n",
       "    <tr>\n",
       "      <th>0</th>\n",
       "      <td>a</td>\n",
       "      <td>1</td>\n",
       "    </tr>\n",
       "    <tr>\n",
       "      <th>1</th>\n",
       "      <td>b</td>\n",
       "      <td>2</td>\n",
       "    </tr>\n",
       "    <tr>\n",
       "      <th>2</th>\n",
       "      <td>c</td>\n",
       "      <td>3</td>\n",
       "    </tr>\n",
       "  </tbody>\n",
       "</table>\n",
       "</div>"
      ],
      "text/plain": [
       "  Name Age\n",
       "0    a   1\n",
       "1    b   2\n",
       "2    c   3"
      ]
     },
     "execution_count": 30,
     "metadata": {},
     "output_type": "execute_result"
    }
   ],
   "source": [
    "pd.DataFrame({\"Name\":[\"a\",\"b\",\"c\"],\"Age\":[\"1\",\"2\",\"3\"]})"
   ]
  },
  {
   "cell_type": "code",
   "execution_count": 72,
   "id": "dd661d2a",
   "metadata": {},
   "outputs": [
    {
     "name": "stdout",
     "output_type": "stream",
     "text": [
      "[1, 1, 1, 1, 1]\n"
     ]
    }
   ],
   "source": [
    "x = \"12344\"\n",
    "x_Num = []\n",
    "for ele in x:\n",
    "    x_Num.append(1)\n",
    "print(x_Num) "
   ]
  },
  {
   "cell_type": "code",
   "execution_count": 47,
   "id": "d19b2de5",
   "metadata": {},
   "outputs": [
    {
     "data": {
      "text/plain": [
       "[1, 2, 0, 4, 5, 6]"
      ]
     },
     "execution_count": 47,
     "metadata": {},
     "output_type": "execute_result"
    }
   ],
   "source": [
    "x[2]=0\n",
    "x"
   ]
  },
  {
   "cell_type": "code",
   "execution_count": 66,
   "id": "3f10c722",
   "metadata": {},
   "outputs": [],
   "source": [
    "x = \"123456789\"\n",
    "emp = ''\n",
    "for ele in x:\n",
    "    emp += str(1)"
   ]
  },
  {
   "cell_type": "code",
   "execution_count": 67,
   "id": "e1dc1056",
   "metadata": {},
   "outputs": [
    {
     "data": {
      "text/plain": [
       "'111111111'"
      ]
     },
     "execution_count": 67,
     "metadata": {},
     "output_type": "execute_result"
    }
   ],
   "source": [
    "emp"
   ]
  },
  {
   "cell_type": "code",
   "execution_count": 68,
   "id": "fc0cae2f",
   "metadata": {},
   "outputs": [
    {
     "data": {
      "text/plain": [
       "'ul'"
      ]
     },
     "execution_count": 68,
     "metadata": {},
     "output_type": "execute_result"
    }
   ],
   "source": [
    "''+\"u\"+\"l\""
   ]
  },
  {
   "cell_type": "code",
   "execution_count": 38,
   "id": "43b53a18",
   "metadata": {},
   "outputs": [
    {
     "ename": "SyntaxError",
     "evalue": "invalid syntax (Temp/ipykernel_4676/2881140408.py, line 1)",
     "output_type": "error",
     "traceback": [
      "\u001b[1;36m  File \u001b[1;32m\"C:\\Users\\admin\\AppData\\Local\\Temp/ipykernel_4676/2881140408.py\"\u001b[1;36m, line \u001b[1;32m1\u001b[0m\n\u001b[1;33m    [ele*ele for ele in x]:\u001b[0m\n\u001b[1;37m                          ^\u001b[0m\n\u001b[1;31mSyntaxError\u001b[0m\u001b[1;31m:\u001b[0m invalid syntax\n"
     ]
    }
   ],
   "source": [
    "[ele*ele for ele in x]:\n",
    "print(x)   "
   ]
  },
  {
   "cell_type": "code",
   "execution_count": 92,
   "id": "375119c2",
   "metadata": {},
   "outputs": [
    {
     "data": {
      "text/plain": [
       "range(0, 5)"
      ]
     },
     "execution_count": 92,
     "metadata": {},
     "output_type": "execute_result"
    }
   ],
   "source": [
    "x = 12345\n",
    "y=str(x)\n",
    "range(len(y))"
   ]
  },
  {
   "cell_type": "code",
   "execution_count": 104,
   "id": "20d674a9",
   "metadata": {},
   "outputs": [
    {
     "name": "stdout",
     "output_type": "stream",
     "text": [
      "240\n"
     ]
    }
   ],
   "source": [
    "\n",
    "emp_x = 2\n",
    "for ele in range(len(y)):\n",
    "    emp_x = emp_x*int(y[ele])\n",
    "print(emp_x)"
   ]
  },
  {
   "cell_type": "code",
   "execution_count": 48,
   "id": "8b771670",
   "metadata": {},
   "outputs": [
    {
     "name": "stdout",
     "output_type": "stream",
     "text": [
      "Value 1 = 34\n",
      "Value 2 = 1\n",
      "Value 3 = 1\n",
      "36\n"
     ]
    }
   ],
   "source": [
    "i1 = int(input(\"Value 1 = \"))\n",
    "i2 = int(input(\"Value 2 = \"))\n",
    "i3 = int(input(\"Value 3 = \"))\n",
    "\n",
    "def cal_c(i1,i2,i3):\n",
    "    result = i1+i2+i3\n",
    "    return result \n",
    "cal=cal_c(i1,i2,i3)\n",
    "print(cal)"
   ]
  },
  {
   "cell_type": "code",
   "execution_count": 53,
   "id": "e4d1dff3",
   "metadata": {},
   "outputs": [],
   "source": [
    "def myprblm():\n",
    "    i1 = int(input(\"v1 = \"))\n",
    "    i2 = int(input(\"v2 = \"))\n",
    "    i3 = int(input(\"v3 = \"))\n",
    "\n",
    "    u_i=input(\"Select opn : \")\n",
    "\n",
    "    if u_i == \"1\":\n",
    "        print(\"Addn of %s,%s,%s is %s\"%(i1,i2,i3,i1+i2+i3))\n",
    "    elif u_i == \"2\":\n",
    "        print(\"Subn of %s,%s,%s is %s\"%(i1,i2,i3,i1-i2-i3))\n",
    "    elif u_i == \"3\":\n",
    "        print(\"Multi of %s,%s,%s is %s\"%(i1,i2,i3,i1*i2*i3))\n",
    "    else:\n",
    "        print(\"Bye\")"
   ]
  },
  {
   "cell_type": "code",
   "execution_count": null,
   "id": "cadf43f9",
   "metadata": {},
   "outputs": [],
   "source": [
    "myprblm()"
   ]
  },
  {
   "cell_type": "code",
   "execution_count": 14,
   "id": "5bc5db75",
   "metadata": {},
   "outputs": [
    {
     "name": "stdout",
     "output_type": "stream",
     "text": [
      "skeeG\n"
     ]
    }
   ],
   "source": [
    "s = \"Geeks\"\n",
    "def reverseword(s):\n",
    "    res = s[::-1]\n",
    "    return res\n",
    "result=reverseword(s)\n",
    "print(result)"
   ]
  },
  {
   "cell_type": "code",
   "execution_count": 10,
   "id": "9aef4f83",
   "metadata": {},
   "outputs": [],
   "source": [
    "a=(123.5)\n"
   ]
  },
  {
   "cell_type": "code",
   "execution_count": 12,
   "id": "76d68a5a",
   "metadata": {},
   "outputs": [
    {
     "data": {
      "text/plain": [
       "float"
      ]
     },
     "execution_count": 12,
     "metadata": {},
     "output_type": "execute_result"
    }
   ],
   "source": [
    "type(a)"
   ]
  },
  {
   "cell_type": "code",
   "execution_count": 18,
   "id": "81781cb4",
   "metadata": {},
   "outputs": [],
   "source": [
    "b={123,\"a\",\"c\"}"
   ]
  },
  {
   "cell_type": "code",
   "execution_count": 19,
   "id": "8f6446d6",
   "metadata": {},
   "outputs": [
    {
     "data": {
      "text/plain": [
       "set"
      ]
     },
     "execution_count": 19,
     "metadata": {},
     "output_type": "execute_result"
    }
   ],
   "source": [
    "type(b)"
   ]
  },
  {
   "cell_type": "code",
   "execution_count": 30,
   "id": "6a558594",
   "metadata": {},
   "outputs": [
    {
     "name": "stdout",
     "output_type": "stream",
     "text": [
      "[1, 2, 3, 4, 1, 2, 3, 4]\n"
     ]
    }
   ],
   "source": [
    "x=[1,2,3,4]\n",
    "\n",
    "for ele in x:\n",
    "    x1 = x*2\n",
    "print(x1)"
   ]
  },
  {
   "cell_type": "code",
   "execution_count": 35,
   "id": "7b632ec6",
   "metadata": {},
   "outputs": [
    {
     "name": "stdout",
     "output_type": "stream",
     "text": [
      "Hi\n",
      "Hi\n",
      "Hi\n",
      "Hi\n",
      "Hi\n",
      "Bye\n"
     ]
    }
   ],
   "source": [
    "switch =1\n",
    "b=0\n",
    "while switch:\n",
    "    b=b+1\n",
    "    if b <= 5:\n",
    "        print(\"Hi\")\n",
    "    else:\n",
    "        switch = 0           \n",
    "        print(\"Bye\")\n"
   ]
  },
  {
   "cell_type": "code",
   "execution_count": 8,
   "id": "08f6e1b3",
   "metadata": {},
   "outputs": [
    {
     "name": "stdout",
     "output_type": "stream",
     "text": [
      "2\n",
      "4\n",
      "6\n",
      "8\n",
      "10\n",
      "These are the even numbers between 1 to 10\n"
     ]
    }
   ],
   "source": [
    "#1\n",
    "switch = 1\n",
    "counter=0\n",
    "while switch:\n",
    "    counter = counter+1\n",
    "    if counter <= 10:\n",
    "        if counter%2 == 0:\n",
    "            print(counter)\n",
    "    else:\n",
    "        switch = 0\n",
    "        print(\"These are the even numbers between 1 to 10\")\n"
   ]
  },
  {
   "cell_type": "code",
   "execution_count": 12,
   "id": "4872eb48",
   "metadata": {},
   "outputs": [
    {
     "name": "stdout",
     "output_type": "stream",
     "text": [
      "Tell me till which you want to know even numbers50\n",
      "0\n",
      "2\n",
      "4\n",
      "6\n",
      "8\n",
      "10\n",
      "12\n",
      "14\n",
      "16\n",
      "18\n",
      "20\n",
      "22\n",
      "24\n",
      "26\n",
      "28\n",
      "30\n",
      "32\n",
      "34\n",
      "36\n",
      "38\n",
      "40\n",
      "42\n",
      "44\n",
      "46\n",
      "48\n"
     ]
    }
   ],
   "source": [
    "x = int(input(\"Tell me till which you want to know even numbers\"))\n",
    "switch = 1\n",
    "while switch:\n",
    "    for i in range(x):\n",
    "        if i%2 == 0:\n",
    "            print(i)\n",
    "        else:\n",
    "            continue\n",
    "    switch = 0"
   ]
  },
  {
   "cell_type": "code",
   "execution_count": null,
   "id": "c80c513e",
   "metadata": {},
   "outputs": [],
   "source": [
    "#2\n"
   ]
  }
 ],
 "metadata": {
  "kernelspec": {
   "display_name": "Python 3 (ipykernel)",
   "language": "python",
   "name": "python3"
  },
  "language_info": {
   "codemirror_mode": {
    "name": "ipython",
    "version": 3
   },
   "file_extension": ".py",
   "mimetype": "text/x-python",
   "name": "python",
   "nbconvert_exporter": "python",
   "pygments_lexer": "ipython3",
   "version": "3.10.0"
  }
 },
 "nbformat": 4,
 "nbformat_minor": 5
}
