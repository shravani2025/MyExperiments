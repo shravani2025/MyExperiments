{
 "cells": [
  {
   "cell_type": "markdown",
   "id": "9202d8a9",
   "metadata": {},
   "source": [
    "## Data Types"
   ]
  },
  {
   "cell_type": "code",
   "execution_count": 62,
   "id": "cd3d7f30",
   "metadata": {},
   "outputs": [],
   "source": [
    "x = 1"
   ]
  },
  {
   "cell_type": "code",
   "execution_count": 54,
   "id": "2f3eac0b",
   "metadata": {},
   "outputs": [
    {
     "data": {
      "text/plain": [
       "int"
      ]
     },
     "execution_count": 54,
     "metadata": {},
     "output_type": "execute_result"
    }
   ],
   "source": [
    "type(x)"
   ]
  },
  {
   "cell_type": "code",
   "execution_count": 55,
   "id": "af8776d0",
   "metadata": {},
   "outputs": [],
   "source": [
    "x = 5.6"
   ]
  },
  {
   "cell_type": "code",
   "execution_count": 56,
   "id": "b147a912",
   "metadata": {},
   "outputs": [
    {
     "data": {
      "text/plain": [
       "float"
      ]
     },
     "execution_count": 56,
     "metadata": {},
     "output_type": "execute_result"
    }
   ],
   "source": [
    "type(x)"
   ]
  },
  {
   "cell_type": "code",
   "execution_count": 58,
   "id": "b90fd6b8",
   "metadata": {},
   "outputs": [],
   "source": [
    "x = \"stringgggg\""
   ]
  },
  {
   "cell_type": "code",
   "execution_count": 59,
   "id": "d5a6cb75",
   "metadata": {},
   "outputs": [
    {
     "data": {
      "text/plain": [
       "str"
      ]
     },
     "execution_count": 59,
     "metadata": {},
     "output_type": "execute_result"
    }
   ],
   "source": [
    "type(x)"
   ]
  },
  {
   "cell_type": "code",
   "execution_count": 60,
   "id": "3438cf8a",
   "metadata": {},
   "outputs": [],
   "source": [
    "x = True"
   ]
  },
  {
   "cell_type": "code",
   "execution_count": 61,
   "id": "bc4e00cb",
   "metadata": {},
   "outputs": [
    {
     "data": {
      "text/plain": [
       "bool"
      ]
     },
     "execution_count": 61,
     "metadata": {},
     "output_type": "execute_result"
    }
   ],
   "source": [
    "type(x)"
   ]
  },
  {
   "cell_type": "markdown",
   "id": "5d4fac27",
   "metadata": {},
   "source": [
    "### Memory address"
   ]
  },
  {
   "cell_type": "code",
   "execution_count": 64,
   "id": "cff0278e",
   "metadata": {},
   "outputs": [],
   "source": [
    "a = 1"
   ]
  },
  {
   "cell_type": "code",
   "execution_count": 65,
   "id": "a739a3f0",
   "metadata": {},
   "outputs": [
    {
     "data": {
      "text/plain": [
       "140367560317232"
      ]
     },
     "execution_count": 65,
     "metadata": {},
     "output_type": "execute_result"
    }
   ],
   "source": [
    "id(a)"
   ]
  },
  {
   "cell_type": "code",
   "execution_count": 66,
   "id": "cc78a68a",
   "metadata": {},
   "outputs": [],
   "source": [
    "a = [1,2,3]"
   ]
  },
  {
   "cell_type": "code",
   "execution_count": 67,
   "id": "18c343fb",
   "metadata": {},
   "outputs": [
    {
     "data": {
      "text/plain": [
       "140367663186496"
      ]
     },
     "execution_count": 67,
     "metadata": {},
     "output_type": "execute_result"
    }
   ],
   "source": [
    "id(a)"
   ]
  },
  {
   "cell_type": "code",
   "execution_count": 68,
   "id": "13047c06",
   "metadata": {},
   "outputs": [],
   "source": [
    "b = a"
   ]
  },
  {
   "cell_type": "code",
   "execution_count": 69,
   "id": "be7dbb2b",
   "metadata": {},
   "outputs": [
    {
     "data": {
      "text/plain": [
       "[1, 2, 3]"
      ]
     },
     "execution_count": 69,
     "metadata": {},
     "output_type": "execute_result"
    }
   ],
   "source": [
    "b"
   ]
  },
  {
   "cell_type": "code",
   "execution_count": 70,
   "id": "4fad52d6",
   "metadata": {},
   "outputs": [
    {
     "data": {
      "text/plain": [
       "140367663186496"
      ]
     },
     "execution_count": 70,
     "metadata": {},
     "output_type": "execute_result"
    }
   ],
   "source": [
    "id(b)"
   ]
  },
  {
   "cell_type": "code",
   "execution_count": 71,
   "id": "925652f7",
   "metadata": {},
   "outputs": [],
   "source": [
    "a.append(4)"
   ]
  },
  {
   "cell_type": "code",
   "execution_count": 72,
   "id": "12bb5733",
   "metadata": {},
   "outputs": [
    {
     "data": {
      "text/plain": [
       "[1, 2, 3, 4]"
      ]
     },
     "execution_count": 72,
     "metadata": {},
     "output_type": "execute_result"
    }
   ],
   "source": [
    "a"
   ]
  },
  {
   "cell_type": "code",
   "execution_count": 73,
   "id": "b2e89e35",
   "metadata": {},
   "outputs": [
    {
     "data": {
      "text/plain": [
       "140367663186496"
      ]
     },
     "execution_count": 73,
     "metadata": {},
     "output_type": "execute_result"
    }
   ],
   "source": [
    "id(a)"
   ]
  },
  {
   "cell_type": "code",
   "execution_count": 74,
   "id": "d2a7c86b",
   "metadata": {},
   "outputs": [
    {
     "data": {
      "text/plain": [
       "[1, 2, 3, 4]"
      ]
     },
     "execution_count": 74,
     "metadata": {},
     "output_type": "execute_result"
    }
   ],
   "source": [
    "b"
   ]
  },
  {
   "cell_type": "code",
   "execution_count": 75,
   "id": "94052f41",
   "metadata": {},
   "outputs": [
    {
     "data": {
      "text/plain": [
       "140367663186496"
      ]
     },
     "execution_count": 75,
     "metadata": {},
     "output_type": "execute_result"
    }
   ],
   "source": [
    "id(b)"
   ]
  },
  {
   "cell_type": "code",
   "execution_count": 76,
   "id": "60ff1e1c",
   "metadata": {},
   "outputs": [],
   "source": [
    "aa = 1"
   ]
  },
  {
   "cell_type": "code",
   "execution_count": 77,
   "id": "6c5fe3f7",
   "metadata": {},
   "outputs": [
    {
     "data": {
      "text/plain": [
       "140367560317232"
      ]
     },
     "execution_count": 77,
     "metadata": {},
     "output_type": "execute_result"
    }
   ],
   "source": [
    "id(aa)"
   ]
  },
  {
   "cell_type": "code",
   "execution_count": 78,
   "id": "900de44f",
   "metadata": {},
   "outputs": [],
   "source": [
    "bb = 1"
   ]
  },
  {
   "cell_type": "code",
   "execution_count": 79,
   "id": "ee45d04f",
   "metadata": {},
   "outputs": [
    {
     "data": {
      "text/plain": [
       "140367560317232"
      ]
     },
     "execution_count": 79,
     "metadata": {},
     "output_type": "execute_result"
    }
   ],
   "source": [
    "id(bb)"
   ]
  },
  {
   "cell_type": "code",
   "execution_count": 80,
   "id": "ad4dbb3f",
   "metadata": {},
   "outputs": [],
   "source": [
    "xx = \"a\""
   ]
  },
  {
   "cell_type": "code",
   "execution_count": 81,
   "id": "87ec18ef",
   "metadata": {},
   "outputs": [
    {
     "data": {
      "text/plain": [
       "140367564051120"
      ]
     },
     "execution_count": 81,
     "metadata": {},
     "output_type": "execute_result"
    }
   ],
   "source": [
    "id(xx)"
   ]
  },
  {
   "cell_type": "code",
   "execution_count": 82,
   "id": "cec1c256",
   "metadata": {},
   "outputs": [],
   "source": [
    "yy = \"a\""
   ]
  },
  {
   "cell_type": "code",
   "execution_count": 83,
   "id": "7579a1e0",
   "metadata": {},
   "outputs": [
    {
     "data": {
      "text/plain": [
       "140367564051120"
      ]
     },
     "execution_count": 83,
     "metadata": {},
     "output_type": "execute_result"
    }
   ],
   "source": [
    "id(yy)"
   ]
  },
  {
   "cell_type": "code",
   "execution_count": 84,
   "id": "bf8cb862",
   "metadata": {},
   "outputs": [],
   "source": [
    "pp = \"Manideep\""
   ]
  },
  {
   "cell_type": "code",
   "execution_count": 85,
   "id": "f5f5f477",
   "metadata": {},
   "outputs": [
    {
     "data": {
      "text/plain": [
       "140367662543664"
      ]
     },
     "execution_count": 85,
     "metadata": {},
     "output_type": "execute_result"
    }
   ],
   "source": [
    "id(pp)"
   ]
  },
  {
   "cell_type": "code",
   "execution_count": 87,
   "id": "012b483f",
   "metadata": {},
   "outputs": [],
   "source": [
    "vv = \"Manideep\""
   ]
  },
  {
   "cell_type": "code",
   "execution_count": 88,
   "id": "e19b7541",
   "metadata": {},
   "outputs": [
    {
     "data": {
      "text/plain": [
       "140367662543664"
      ]
     },
     "execution_count": 88,
     "metadata": {},
     "output_type": "execute_result"
    }
   ],
   "source": [
    "id(vv)"
   ]
  },
  {
   "cell_type": "markdown",
   "id": "aae92029",
   "metadata": {},
   "source": [
    "## Data Structures"
   ]
  },
  {
   "cell_type": "markdown",
   "id": "7ebd2658",
   "metadata": {},
   "source": [
    "### Tuples\n",
    "* Tuples are immutable"
   ]
  },
  {
   "cell_type": "code",
   "execution_count": 134,
   "id": "2f29c356",
   "metadata": {},
   "outputs": [],
   "source": [
    "x = (1,2,3)"
   ]
  },
  {
   "cell_type": "code",
   "execution_count": 135,
   "id": "1eb52d60",
   "metadata": {},
   "outputs": [
    {
     "data": {
      "text/plain": [
       "(1, 2, 3, 4)"
      ]
     },
     "execution_count": 135,
     "metadata": {},
     "output_type": "execute_result"
    }
   ],
   "source": [
    "x = x + (4,)\n",
    "x"
   ]
  },
  {
   "cell_type": "code",
   "execution_count": 136,
   "id": "afec9330",
   "metadata": {},
   "outputs": [],
   "source": [
    "# (4*2)+(5*3)"
   ]
  },
  {
   "cell_type": "code",
   "execution_count": 137,
   "id": "7a7e7201",
   "metadata": {},
   "outputs": [
    {
     "data": {
      "text/plain": [
       "tuple"
      ]
     },
     "execution_count": 137,
     "metadata": {},
     "output_type": "execute_result"
    }
   ],
   "source": [
    "type(x)"
   ]
  },
  {
   "cell_type": "code",
   "execution_count": 126,
   "id": "735d3117",
   "metadata": {},
   "outputs": [
    {
     "ename": "TypeError",
     "evalue": "'tuple' object does not support item assignment",
     "output_type": "error",
     "traceback": [
      "\u001b[0;31m---------------------------------------------------------------------------\u001b[0m",
      "\u001b[0;31mTypeError\u001b[0m                                 Traceback (most recent call last)",
      "\u001b[0;32m/var/folders/20/3yg6fdqn0q37hmd96kcp0czh0000gn/T/ipykernel_2463/134653933.py\u001b[0m in \u001b[0;36m<module>\u001b[0;34m\u001b[0m\n\u001b[0;32m----> 1\u001b[0;31m \u001b[0mx\u001b[0m\u001b[0;34m[\u001b[0m\u001b[0;36m0\u001b[0m\u001b[0;34m]\u001b[0m \u001b[0;34m=\u001b[0m \u001b[0;36m0\u001b[0m\u001b[0;34m\u001b[0m\u001b[0;34m\u001b[0m\u001b[0m\n\u001b[0m",
      "\u001b[0;31mTypeError\u001b[0m: 'tuple' object does not support item assignment"
     ]
    }
   ],
   "source": [
    "x[0] = 0"
   ]
  },
  {
   "cell_type": "markdown",
   "id": "56773a81",
   "metadata": {},
   "source": [
    "### List\n",
    "* Mutable"
   ]
  },
  {
   "cell_type": "code",
   "execution_count": 127,
   "id": "ac5fd08d",
   "metadata": {},
   "outputs": [],
   "source": [
    "y = [1,2,3]"
   ]
  },
  {
   "cell_type": "code",
   "execution_count": 128,
   "id": "728952c1",
   "metadata": {},
   "outputs": [
    {
     "data": {
      "text/plain": [
       "list"
      ]
     },
     "execution_count": 128,
     "metadata": {},
     "output_type": "execute_result"
    }
   ],
   "source": [
    "type(y)"
   ]
  },
  {
   "cell_type": "code",
   "execution_count": 129,
   "id": "ae8199da",
   "metadata": {},
   "outputs": [],
   "source": [
    "y.append(4)\n",
    "y.append([5,6,7])"
   ]
  },
  {
   "cell_type": "code",
   "execution_count": 130,
   "id": "f421c96c",
   "metadata": {},
   "outputs": [
    {
     "data": {
      "text/plain": [
       "[1, 2, 3, 4, [5, 6, 7]]"
      ]
     },
     "execution_count": 130,
     "metadata": {},
     "output_type": "execute_result"
    }
   ],
   "source": [
    "y"
   ]
  },
  {
   "cell_type": "code",
   "execution_count": null,
   "id": "00db5573",
   "metadata": {},
   "outputs": [],
   "source": []
  },
  {
   "cell_type": "code",
   "execution_count": 132,
   "id": "9b79f342",
   "metadata": {},
   "outputs": [],
   "source": [
    "y[0] = 0"
   ]
  },
  {
   "cell_type": "code",
   "execution_count": 133,
   "id": "34244a04",
   "metadata": {},
   "outputs": [
    {
     "data": {
      "text/plain": [
       "[0, 2, 3, 4, [5, 6, 7]]"
      ]
     },
     "execution_count": 133,
     "metadata": {},
     "output_type": "execute_result"
    }
   ],
   "source": [
    "y"
   ]
  },
  {
   "cell_type": "markdown",
   "id": "8f8be531",
   "metadata": {},
   "source": [
    "### Set"
   ]
  },
  {
   "cell_type": "code",
   "execution_count": 138,
   "id": "3b450969",
   "metadata": {},
   "outputs": [],
   "source": [
    "z = {1,2,3}"
   ]
  },
  {
   "cell_type": "code",
   "execution_count": 139,
   "id": "42bc2ca6",
   "metadata": {},
   "outputs": [
    {
     "data": {
      "text/plain": [
       "{1, 2, 3, 4}"
      ]
     },
     "execution_count": 139,
     "metadata": {},
     "output_type": "execute_result"
    }
   ],
   "source": [
    "z.add(4)\n",
    "z"
   ]
  },
  {
   "cell_type": "code",
   "execution_count": 140,
   "id": "b24b597b",
   "metadata": {},
   "outputs": [
    {
     "data": {
      "text/plain": [
       "set"
      ]
     },
     "execution_count": 140,
     "metadata": {},
     "output_type": "execute_result"
    }
   ],
   "source": [
    "type(z)"
   ]
  },
  {
   "cell_type": "code",
   "execution_count": 145,
   "id": "af71bdbd",
   "metadata": {},
   "outputs": [],
   "source": [
    "z = {1,3,3,4,4,4,4,2,2,2}"
   ]
  },
  {
   "cell_type": "code",
   "execution_count": 146,
   "id": "ce2b6bc8",
   "metadata": {},
   "outputs": [
    {
     "data": {
      "text/plain": [
       "{1, 2, 3, 4}"
      ]
     },
     "execution_count": 146,
     "metadata": {},
     "output_type": "execute_result"
    }
   ],
   "source": [
    "z"
   ]
  },
  {
   "cell_type": "code",
   "execution_count": null,
   "id": "2e4b1818",
   "metadata": {},
   "outputs": [],
   "source": []
  },
  {
   "cell_type": "markdown",
   "id": "67baa8a7",
   "metadata": {},
   "source": [
    "### Dictionary"
   ]
  },
  {
   "cell_type": "code",
   "execution_count": 159,
   "id": "bcd82319",
   "metadata": {},
   "outputs": [],
   "source": [
    "dictt1 = {\"Name\":\"Manideep\",\"salary\":20000}"
   ]
  },
  {
   "cell_type": "code",
   "execution_count": 156,
   "id": "2946766b",
   "metadata": {},
   "outputs": [
    {
     "data": {
      "text/plain": [
       "dict"
      ]
     },
     "execution_count": 156,
     "metadata": {},
     "output_type": "execute_result"
    }
   ],
   "source": [
    "type(dictt1)"
   ]
  },
  {
   "cell_type": "code",
   "execution_count": 157,
   "id": "c2e7df19",
   "metadata": {},
   "outputs": [
    {
     "data": {
      "text/plain": [
       "dict_keys(['Name', 'salary'])"
      ]
     },
     "execution_count": 157,
     "metadata": {},
     "output_type": "execute_result"
    }
   ],
   "source": [
    "dictt1.keys()"
   ]
  },
  {
   "cell_type": "code",
   "execution_count": 158,
   "id": "fb0d5f1d",
   "metadata": {},
   "outputs": [
    {
     "data": {
      "text/plain": [
       "dict_values(['Manideep', 20000])"
      ]
     },
     "execution_count": 158,
     "metadata": {},
     "output_type": "execute_result"
    }
   ],
   "source": [
    "dictt1.values()"
   ]
  },
  {
   "cell_type": "code",
   "execution_count": 163,
   "id": "16048f9c",
   "metadata": {},
   "outputs": [],
   "source": [
    "dictt2 = {\"Name\":[\"Manideep\",\"Shravani\"],\"salary\":[20000,25000]}"
   ]
  },
  {
   "cell_type": "code",
   "execution_count": 164,
   "id": "d11048c3",
   "metadata": {},
   "outputs": [
    {
     "data": {
      "text/plain": [
       "dict_keys(['Name', 'salary'])"
      ]
     },
     "execution_count": 164,
     "metadata": {},
     "output_type": "execute_result"
    }
   ],
   "source": [
    "dictt2.keys()"
   ]
  },
  {
   "cell_type": "code",
   "execution_count": 165,
   "id": "c87ed0b4",
   "metadata": {},
   "outputs": [
    {
     "data": {
      "text/plain": [
       "dict_values([['Manideep', 'Shravani'], [20000, 25000]])"
      ]
     },
     "execution_count": 165,
     "metadata": {},
     "output_type": "execute_result"
    }
   ],
   "source": [
    "dictt2.values()"
   ]
  },
  {
   "cell_type": "code",
   "execution_count": 175,
   "id": "0cb80e5f",
   "metadata": {},
   "outputs": [
    {
     "data": {
      "text/plain": [
       "dict_items([('Name', ['Manideep', 'Shravani']), ('salary', [20000, 25000])])"
      ]
     },
     "execution_count": 175,
     "metadata": {},
     "output_type": "execute_result"
    }
   ],
   "source": [
    "dictt2.items()"
   ]
  },
  {
   "cell_type": "markdown",
   "id": "0f965da7",
   "metadata": {},
   "source": [
    "dictionary to pandas dataframe"
   ]
  },
  {
   "cell_type": "code",
   "execution_count": 1,
   "id": "d38d5b1f",
   "metadata": {},
   "outputs": [
    {
     "ename": "ModuleNotFoundError",
     "evalue": "No module named 'pandas'",
     "output_type": "error",
     "traceback": [
      "\u001b[1;31m---------------------------------------------------------------------------\u001b[0m",
      "\u001b[1;31mModuleNotFoundError\u001b[0m                       Traceback (most recent call last)",
      "\u001b[1;32m~\\AppData\\Local\\Temp/ipykernel_9496/1813038323.py\u001b[0m in \u001b[0;36m<module>\u001b[1;34m\u001b[0m\n\u001b[1;32m----> 1\u001b[1;33m \u001b[1;32mimport\u001b[0m \u001b[0mpandas\u001b[0m \u001b[1;32mas\u001b[0m \u001b[0mpd\u001b[0m\u001b[1;33m\u001b[0m\u001b[1;33m\u001b[0m\u001b[0m\n\u001b[0m\u001b[0;32m      2\u001b[0m \u001b[0mdictTodf\u001b[0m \u001b[1;33m=\u001b[0m \u001b[0mpd\u001b[0m\u001b[1;33m.\u001b[0m\u001b[0mDataFrame\u001b[0m\u001b[1;33m(\u001b[0m\u001b[0mdictt2\u001b[0m\u001b[1;33m)\u001b[0m\u001b[1;33m\u001b[0m\u001b[1;33m\u001b[0m\u001b[0m\n",
      "\u001b[1;31mModuleNotFoundError\u001b[0m: No module named 'pandas'"
     ]
    }
   ],
   "source": [
    "import pandas as pd\n",
    "dictTodf = pd.DataFrame(dictt2)"
   ]
  },
  {
   "cell_type": "code",
   "execution_count": 181,
   "id": "16fb4fc0",
   "metadata": {},
   "outputs": [
    {
     "data": {
      "text/html": [
       "<div>\n",
       "<style scoped>\n",
       "    .dataframe tbody tr th:only-of-type {\n",
       "        vertical-align: middle;\n",
       "    }\n",
       "\n",
       "    .dataframe tbody tr th {\n",
       "        vertical-align: top;\n",
       "    }\n",
       "\n",
       "    .dataframe thead th {\n",
       "        text-align: right;\n",
       "    }\n",
       "</style>\n",
       "<table border=\"1\" class=\"dataframe\">\n",
       "  <thead>\n",
       "    <tr style=\"text-align: right;\">\n",
       "      <th></th>\n",
       "      <th>Name</th>\n",
       "      <th>salary</th>\n",
       "    </tr>\n",
       "  </thead>\n",
       "  <tbody>\n",
       "    <tr>\n",
       "      <th>0</th>\n",
       "      <td>Manideep</td>\n",
       "      <td>20000</td>\n",
       "    </tr>\n",
       "    <tr>\n",
       "      <th>1</th>\n",
       "      <td>Shravani</td>\n",
       "      <td>25000</td>\n",
       "    </tr>\n",
       "  </tbody>\n",
       "</table>\n",
       "</div>"
      ],
      "text/plain": [
       "       Name  salary\n",
       "0  Manideep   20000\n",
       "1  Shravani   25000"
      ]
     },
     "execution_count": 181,
     "metadata": {},
     "output_type": "execute_result"
    }
   ],
   "source": [
    "dictTodf"
   ]
  },
  {
   "cell_type": "code",
   "execution_count": 182,
   "id": "afea215a",
   "metadata": {},
   "outputs": [
    {
     "data": {
      "text/html": [
       "<div>\n",
       "<style scoped>\n",
       "    .dataframe tbody tr th:only-of-type {\n",
       "        vertical-align: middle;\n",
       "    }\n",
       "\n",
       "    .dataframe tbody tr th {\n",
       "        vertical-align: top;\n",
       "    }\n",
       "\n",
       "    .dataframe thead th {\n",
       "        text-align: right;\n",
       "    }\n",
       "</style>\n",
       "<table border=\"1\" class=\"dataframe\">\n",
       "  <thead>\n",
       "    <tr style=\"text-align: right;\">\n",
       "      <th></th>\n",
       "      <th>Name1</th>\n",
       "      <th>Name2</th>\n",
       "    </tr>\n",
       "  </thead>\n",
       "  <tbody>\n",
       "    <tr>\n",
       "      <th>0</th>\n",
       "      <td>x</td>\n",
       "      <td>a</td>\n",
       "    </tr>\n",
       "    <tr>\n",
       "      <th>1</th>\n",
       "      <td>y</td>\n",
       "      <td>b</td>\n",
       "    </tr>\n",
       "    <tr>\n",
       "      <th>2</th>\n",
       "      <td>z</td>\n",
       "      <td>c</td>\n",
       "    </tr>\n",
       "  </tbody>\n",
       "</table>\n",
       "</div>"
      ],
      "text/plain": [
       "  Name1 Name2\n",
       "0     x     a\n",
       "1     y     b\n",
       "2     z     c"
      ]
     },
     "execution_count": 182,
     "metadata": {},
     "output_type": "execute_result"
    }
   ],
   "source": [
    "pd.DataFrame({\"Name1\":[\"x\",\"y\",\"z\"],\"Name2\":[\"a\",\"b\",\"c\"]})"
   ]
  },
  {
   "cell_type": "markdown",
   "id": "79b8c6ed",
   "metadata": {},
   "source": [
    "## Functions"
   ]
  },
  {
   "cell_type": "code",
   "execution_count": 189,
   "id": "8b1a3e95",
   "metadata": {},
   "outputs": [],
   "source": [
    "def add(x,y):\n",
    "    return x+y"
   ]
  },
  {
   "cell_type": "code",
   "execution_count": 190,
   "id": "97c7740d",
   "metadata": {},
   "outputs": [
    {
     "data": {
      "text/plain": [
       "3"
      ]
     },
     "execution_count": 190,
     "metadata": {},
     "output_type": "execute_result"
    }
   ],
   "source": [
    "add(1,2)"
   ]
  },
  {
   "cell_type": "code",
   "execution_count": 193,
   "id": "f43db4ad",
   "metadata": {},
   "outputs": [
    {
     "data": {
      "text/plain": [
       "2"
      ]
     },
     "execution_count": 193,
     "metadata": {},
     "output_type": "execute_result"
    }
   ],
   "source": [
    "def multi(x,y):\n",
    "    return x*y\n",
    "multi(1,2)"
   ]
  },
  {
   "cell_type": "code",
   "execution_count": 207,
   "id": "1b42665a",
   "metadata": {},
   "outputs": [],
   "source": [
    "def greet(Name,Age):\n",
    "     print(f\"Hi! {Name} you're {Age} year old\")\n"
   ]
  },
  {
   "cell_type": "code",
   "execution_count": 208,
   "id": "57df3ee5",
   "metadata": {},
   "outputs": [
    {
     "name": "stdout",
     "output_type": "stream",
     "text": [
      "Hi! Rana you're 1 year old\n"
     ]
    }
   ],
   "source": [
    "greet(\"Rana\",1)"
   ]
  },
  {
   "cell_type": "code",
   "execution_count": 212,
   "id": "0a80b165",
   "metadata": {},
   "outputs": [],
   "source": [
    "def result(Name):\n",
    "    if len(Name)>5:\n",
    "        print(\"You're Name is Big\")\n",
    "    else:\n",
    "        print(\"You're Name is not Big\")"
   ]
  },
  {
   "cell_type": "code",
   "execution_count": 218,
   "id": "dd89e3e7",
   "metadata": {},
   "outputs": [
    {
     "name": "stdout",
     "output_type": "stream",
     "text": [
      "You're Name is not Big\n"
     ]
    }
   ],
   "source": [
    "result(\"Rana\")"
   ]
  },
  {
   "cell_type": "code",
   "execution_count": 259,
   "id": "ad825af0",
   "metadata": {},
   "outputs": [
    {
     "name": "stdout",
     "output_type": "stream",
     "text": [
      "The addn of 1,2 is 3\n",
      "The addn of 1,2 is 3\n"
     ]
    }
   ],
   "source": [
    "def soln(x,y):\n",
    "    print(f\"The addn of {x},{y} is {x+y}\")\n",
    "    print(\"The addn of %s,%s is %s\"%(x,y,x+y))\n",
    "    \n",
    "soln(1,2)"
   ]
  },
  {
   "cell_type": "code",
   "execution_count": 248,
   "id": "11cc726d",
   "metadata": {},
   "outputs": [
    {
     "data": {
      "text/plain": [
       "(3, -1, 2, 1)"
      ]
     },
     "execution_count": 248,
     "metadata": {},
     "output_type": "execute_result"
    }
   ],
   "source": [
    "soln(1,2)"
   ]
  },
  {
   "cell_type": "code",
   "execution_count": null,
   "id": "061bc5e8",
   "metadata": {},
   "outputs": [],
   "source": []
  },
  {
   "cell_type": "code",
   "execution_count": 42,
   "id": "de5d2686",
   "metadata": {},
   "outputs": [
    {
     "name": "stdout",
     "output_type": "stream",
     "text": [
      "Select operation\n",
      "1.Add\n",
      "2.Subtract\n",
      "3.Multiply\n",
      "4.Divide\n",
      "First value 1\n",
      "Second value 2\n",
      "Select Operation1\n",
      " Addn of x,y 3\n"
     ]
    }
   ],
   "source": [
    "def add(x, y):\n",
    "    return x + y\n",
    "def subtract(x, y):\n",
    "    return x - y\n",
    "def multiply(x, y):\n",
    "    return x * y\n",
    "def divide(x, y):\n",
    "    return x / y\n",
    "\n",
    "\n",
    "print(\"Select operation\")\n",
    "print(\"1.Add\")\n",
    "print(\"2.Subtract\")\n",
    "print(\"3.Multiply\")\n",
    "print(\"4.Divide\")\n",
    "\n",
    "x=int(input(\"First value \"))\n",
    "y=int(input(\"Second value \"))\n",
    "\n",
    "U_C=input(\"Select Operation\")\n",
    "if U_C == \"1\":\n",
    "    res = add(x,y)\n",
    "    print(\" Addn of x,y\",res )\n",
    "    \n",
    "elif U_C == \"2\":\n",
    "    print(\" subn of x,y\", add(x,y))\n",
    "\n",
    "else:\n",
    "    print(\"Ty\")"
   ]
  },
  {
   "cell_type": "code",
   "execution_count": 33,
   "id": "97a1127f",
   "metadata": {},
   "outputs": [],
   "source": [
    "def calc():\n",
    "    x=int(input(\"Enter the first value : \"))\n",
    "    y=int(input(\"Enter the second value : \"))\n",
    "\n",
    "    print(\"\\nSelect operation\")\n",
    "    print(\"1.Add\")\n",
    "    print(\"2.Subtract\")\n",
    "    print(\"3.Multiply\")\n",
    "    print(\"4.Divide\")\n",
    "\n",
    "    Op_type=input(\"\\nSelect operation : \")\n",
    "\n",
    "    if Op_type == \"1\":\n",
    "        print(\"\\nAddition of %s,%s is %s\"%(x,y,x+y))\n",
    "    elif Op_type == \"2\":\n",
    "        print(\"\\nSubtraction of %s,%s is %s\"%(x,y,x-y))\n",
    "    elif Op_type == \"3\":\n",
    "        print(\"\\nMultiplication of %s,%s is %s\"%(x,y,x*y))\n",
    "    elif Op_type == \"4\":\n",
    "        print(\"\\nDivision of %s,%s is %s\"%(x,y,x/y))\n",
    "    else:\n",
    "        print(\"Operation Invalid\")"
   ]
  },
  {
   "cell_type": "code",
   "execution_count": 35,
   "id": "b63ac174",
   "metadata": {},
   "outputs": [
    {
     "name": "stdout",
     "output_type": "stream",
     "text": [
      "Enter the first value : 2\n",
      "Enter the second value : 3\n",
      "\n",
      "Select operation\n",
      "1.Add\n",
      "2.Subtract\n",
      "3.Multiply\n",
      "4.Divide\n",
      "\n",
      "Select operation : 4\n",
      "\n",
      "Division of 2,3 is 0.6666666666666666\n",
      "\n",
      "Do you want to use calculator again (y/n) ?n\n",
      "Thank you\n"
     ]
    }
   ],
   "source": [
    "switch = 1\n",
    "\n",
    "while switch == 1:\n",
    "    calc()\n",
    "    Choice = input(\"\\nDo you want to use calculator again (y/n) ?\")\n",
    "    if Choice == \"y\":\n",
    "        continue\n",
    "    else:\n",
    "        switch = 0\n",
    "        print(\"Thank you\")"
   ]
  },
  {
   "cell_type": "code",
   "execution_count": null,
   "id": "72f48472",
   "metadata": {},
   "outputs": [],
   "source": [
    "------------------\n",
    "x = 34545"
   ]
  },
  {
   "cell_type": "code",
   "execution_count": null,
   "id": "b1fca17e",
   "metadata": {},
   "outputs": [],
   "source": [
    "y = str(x)"
   ]
  },
  {
   "cell_type": "code",
   "execution_count": null,
   "id": "088bf2fd",
   "metadata": {},
   "outputs": [],
   "source": [
    "mulValue = 1\n",
    "for i in range(len(y)):\n",
    "    mulValue = mulValue*int(y[i])\n",
    "print(mulValue)"
   ]
  },
  {
   "cell_type": "code",
   "execution_count": null,
   "id": "5cf53af4",
   "metadata": {},
   "outputs": [],
   "source": [
    "# -----how iteration works\n",
    "# i1=1*1=1\n",
    "# i1=1\n",
    "# i2=1*2=2\n",
    "# i2=2\n",
    "# i3=2*3=6\n",
    "# i3=6"
   ]
  },
  {
   "cell_type": "code",
   "execution_count": 9,
   "id": "2a85cc11",
   "metadata": {},
   "outputs": [
    {
     "name": "stdout",
     "output_type": "stream",
     "text": [
      "[1, 4, 9]\n"
     ]
    }
   ],
   "source": [
    "a=[1,2,3]\n",
    "alis=[ele**2 for ele in a]\n",
    "print(alis)"
   ]
  },
  {
   "cell_type": "code",
   "execution_count": 13,
   "id": "150ad291",
   "metadata": {},
   "outputs": [
    {
     "name": "stdout",
     "output_type": "stream",
     "text": [
      "[22222, 69.0, 15]\n"
     ]
    }
   ],
   "source": [
    "a1=[2,34.5,5]\n",
    "b1=[11111,2,3]\n",
    "a1lis=[ x*y for x,y in zip(a1,b1)]\n",
    "print(a1lis)"
   ]
  },
  {
   "cell_type": "code",
   "execution_count": 62,
   "id": "3149f88e",
   "metadata": {},
   "outputs": [
    {
     "name": "stdout",
     "output_type": "stream",
     "text": [
      "('a', 'e', 'i', 'o', 'u')\n"
     ]
    }
   ],
   "source": [
    "v = (\"a\",\"e\",\"i\",\"o\",\"u\")\n",
    "# type(v)\n",
    "print(v)"
   ]
  },
  {
   "cell_type": "code",
   "execution_count": 63,
   "id": "55478cff",
   "metadata": {},
   "outputs": [
    {
     "name": "stdout",
     "output_type": "stream",
     "text": [
      "['A']\n",
      "['E']\n",
      "['I']\n",
      "['O']\n",
      "['U']\n"
     ]
    }
   ],
   "source": [
    "\n",
    "for va in v:\n",
    "    print([va.upper()])"
   ]
  },
  {
   "cell_type": "code",
   "execution_count": 64,
   "id": "c6f833dc",
   "metadata": {},
   "outputs": [
    {
     "ename": "AttributeError",
     "evalue": "'tuple' object has no attribute 'upper'",
     "output_type": "error",
     "traceback": [
      "\u001b[1;31m---------------------------------------------------------------------------\u001b[0m",
      "\u001b[1;31mAttributeError\u001b[0m                            Traceback (most recent call last)",
      "\u001b[1;32m~\\AppData\\Local\\Temp/ipykernel_6292/4249038479.py\u001b[0m in \u001b[0;36m<module>\u001b[1;34m\u001b[0m\n\u001b[1;32m----> 1\u001b[1;33m \u001b[0mprint\u001b[0m\u001b[1;33m(\u001b[0m\u001b[1;33m[\u001b[0m\u001b[0mv\u001b[0m\u001b[1;33m.\u001b[0m\u001b[0mupper\u001b[0m\u001b[1;33m(\u001b[0m\u001b[1;33m)\u001b[0m\u001b[1;33m]\u001b[0m\u001b[1;33m)\u001b[0m\u001b[1;33m\u001b[0m\u001b[1;33m\u001b[0m\u001b[0m\n\u001b[0m",
      "\u001b[1;31mAttributeError\u001b[0m: 'tuple' object has no attribute 'upper'"
     ]
    }
   ],
   "source": [
    "print([v.upper()]) "
   ]
  },
  {
   "cell_type": "code",
   "execution_count": 67,
   "id": "13d3cd77",
   "metadata": {},
   "outputs": [
    {
     "data": {
      "text/plain": [
       "('a', 'e', 'i', 'o', 'u')"
      ]
     },
     "execution_count": 67,
     "metadata": {},
     "output_type": "execute_result"
    }
   ],
   "source": [
    "# va\n",
    "v"
   ]
  },
  {
   "cell_type": "code",
   "execution_count": 78,
   "id": "80918bd2",
   "metadata": {},
   "outputs": [],
   "source": [
    "name,age,speed = \"dog\",23,1.5\n",
    "# type(d)tuple packing\n",
    "# age tuple unpacking"
   ]
  },
  {
   "cell_type": "code",
   "execution_count": 95,
   "id": "0e7b81c1",
   "metadata": {},
   "outputs": [
    {
     "data": {
      "text/plain": [
       "{'nonveg': 'mutton'}"
      ]
     },
     "execution_count": 95,
     "metadata": {},
     "output_type": "execute_result"
    }
   ],
   "source": [
    "pizzas={\"nonveg\":\"chicken\",\"veg\":\"panner\"}\n",
    "pizzas[\"nonveg\"]=\"mutton\"\n",
    "del pizzas[\"veg\"]\n",
    "pizzas"
   ]
  },
  {
   "cell_type": "code",
   "execution_count": 107,
   "id": "df175172",
   "metadata": {},
   "outputs": [],
   "source": [
    "import pandas as pd\n",
    "pizzas={\"nonveg\":\"chicken\",\"veg\":\"panner\"}\n"
   ]
  },
  {
   "cell_type": "code",
   "execution_count": 109,
   "id": "4a41ba09",
   "metadata": {},
   "outputs": [
    {
     "ename": "TypeError",
     "evalue": "DataFrame.__init__() got an unexpected keyword argument 'pizzas'",
     "output_type": "error",
     "traceback": [
      "\u001b[1;31m---------------------------------------------------------------------------\u001b[0m",
      "\u001b[1;31mTypeError\u001b[0m                                 Traceback (most recent call last)",
      "\u001b[1;32m~\\AppData\\Local\\Temp/ipykernel_6292/3238173461.py\u001b[0m in \u001b[0;36m<module>\u001b[1;34m\u001b[0m\n\u001b[1;32m----> 1\u001b[1;33m \u001b[0minput_pizzas\u001b[0m\u001b[1;33m=\u001b[0m\u001b[0mpd\u001b[0m\u001b[1;33m.\u001b[0m\u001b[0mDataFrame\u001b[0m\u001b[1;33m(\u001b[0m\u001b[0mpizzas\u001b[0m\u001b[1;33m=\u001b[0m\u001b[1;33m{\u001b[0m\u001b[1;34m\"nonveg\"\u001b[0m\u001b[1;33m:\u001b[0m\u001b[1;34m\"chicken\"\u001b[0m\u001b[1;33m,\u001b[0m\u001b[1;34m\"veg\"\u001b[0m\u001b[1;33m:\u001b[0m\u001b[1;34m\"panner\"\u001b[0m\u001b[1;33m}\u001b[0m\u001b[1;33m)\u001b[0m\u001b[1;33m\u001b[0m\u001b[1;33m\u001b[0m\u001b[0m\n\u001b[0m",
      "\u001b[1;31mTypeError\u001b[0m: DataFrame.__init__() got an unexpected keyword argument 'pizzas'"
     ]
    }
   ],
   "source": [
    "input_pizzas=pd.DataFrame(pizzas={\"nonveg\":\"chicken\",\"veg\":\"panner\"})"
   ]
  },
  {
   "cell_type": "code",
   "execution_count": null,
   "id": "4d245009",
   "metadata": {},
   "outputs": [],
   "source": []
  }
 ],
 "metadata": {
  "kernelspec": {
   "display_name": "Python 3 (ipykernel)",
   "language": "python",
   "name": "python3"
  },
  "language_info": {
   "codemirror_mode": {
    "name": "ipython",
    "version": 3
   },
   "file_extension": ".py",
   "mimetype": "text/x-python",
   "name": "python",
   "nbconvert_exporter": "python",
   "pygments_lexer": "ipython3",
   "version": "3.10.0"
  }
 },
 "nbformat": 4,
 "nbformat_minor": 5
}
