{
 "cells": [
  {
   "cell_type": "code",
   "execution_count": 13,
   "id": "47bee531",
   "metadata": {},
   "outputs": [
    {
     "name": "stdout",
     "output_type": "stream",
     "text": [
      "8\n"
     ]
    }
   ],
   "source": [
    "def multiply (x,y):\n",
    "    product=x*y\n",
    "    return product\n",
    "Num=multiply(2,4)\n",
    "print(Num)"
   ]
  },
  {
   "cell_type": "code",
   "execution_count": 22,
   "id": "30bffbd9",
   "metadata": {},
   "outputs": [
    {
     "name": "stdout",
     "output_type": "stream",
     "text": [
      "Hello! Rana\n"
     ]
    }
   ],
   "source": [
    "def greet(Name):\n",
    "    print(f\"Hello! {Name}\")\n",
    "greet(\"Rana\")    \n",
    "    "
   ]
  },
  {
   "cell_type": "code",
   "execution_count": 24,
   "id": "438febb3",
   "metadata": {},
   "outputs": [
    {
     "name": "stdout",
     "output_type": "stream",
     "text": [
      "100\n",
      "121\n",
      "144\n",
      "169\n",
      "196\n"
     ]
    }
   ],
   "source": [
    "for n in range(10,15):\n",
    "    print(n*n)"
   ]
  },
  {
   "cell_type": "code",
   "execution_count": null,
   "id": "ae0dea90",
   "metadata": {},
   "outputs": [],
   "source": []
  }
 ],
 "metadata": {
  "kernelspec": {
   "display_name": "Python 3 (ipykernel)",
   "language": "python",
   "name": "python3"
  },
  "language_info": {
   "codemirror_mode": {
    "name": "ipython",
    "version": 3
   },
   "file_extension": ".py",
   "mimetype": "text/x-python",
   "name": "python",
   "nbconvert_exporter": "python",
   "pygments_lexer": "ipython3",
   "version": "3.10.0"
  }
 },
 "nbformat": 4,
 "nbformat_minor": 5
}
