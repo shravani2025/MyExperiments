{
 "cells": [
  {
   "cell_type": "code",
   "execution_count": 8,
   "id": "3a73212c",
   "metadata": {},
   "outputs": [
    {
     "name": "stdout",
     "output_type": "stream",
     "text": [
      " \n"
     ]
    }
   ],
   "source": [
    "Empty=\" \"\n",
    "print(Empty)"
   ]
  },
  {
   "cell_type": "code",
   "execution_count": 7,
   "id": "f533111b",
   "metadata": {},
   "outputs": [
    {
     "name": "stdout",
     "output_type": "stream",
     "text": [
      " Rana\n"
     ]
    }
   ],
   "source": [
    "print(Empty+\"Rana\")"
   ]
  },
  {
   "cell_type": "code",
   "execution_count": 14,
   "id": "810af723",
   "metadata": {},
   "outputs": [
    {
     "name": "stdout",
     "output_type": "stream",
     "text": [
      "rana\n",
      "RANA\n"
     ]
    }
   ],
   "source": [
    "Bangaru_Name=\"Rana\"\n",
    "Bangaru_Name = Bangaru_Name.lower()\n",
    "print(Bangaru_Name)\n",
    "Bangaru_Name=Bangaru_Name.upper()\n",
    "print(Bangaru_Name)"
   ]
  },
  {
   "cell_type": "markdown",
   "id": "f7d4023f",
   "metadata": {},
   "source": [
    "### Problem 1\n",
    "Take two inputs from user which is A (Name of a person) and B (Age of a person) and print name of the person Age number of times"
   ]
  },
  {
   "cell_type": "code",
   "execution_count": 31,
   "id": "706cf142",
   "metadata": {},
   "outputs": [
    {
     "name": "stdout",
     "output_type": "stream",
     "text": [
      "RanaRana\n"
     ]
    }
   ],
   "source": [
    "A=\"Rana\"\n",
    "B=2\n",
    "# print(\"%s is %s years old \"%(A,(B*2)))\n",
    "print(A * B)"
   ]
  },
  {
   "cell_type": "markdown",
   "id": "e12d756f",
   "metadata": {},
   "source": [
    "### Problem 2\n",
    "Take a string as input and print the reverse way of that string\n",
    "\n",
    "If Rana is given, then the output should be anaR"
   ]
  },
  {
   "cell_type": "code",
   "execution_count": 32,
   "id": "2f19d085",
   "metadata": {},
   "outputs": [
    {
     "data": {
      "text/plain": [
       "'anaR'"
      ]
     },
     "execution_count": 32,
     "metadata": {},
     "output_type": "execute_result"
    }
   ],
   "source": [
    "Name=\"Rana\"\n",
    "Name[::-1]"
   ]
  },
  {
   "cell_type": "markdown",
   "id": "9e83991c",
   "metadata": {},
   "source": [
    "### Problem 3\n",
    "\n",
    "Take a string as input, remove extra spaces if any, remove special characters if any, convert the string to lowercase and add two dollar symbols infront of this string and store it into a variable. see if it is fibonaaci string or not\n",
    "\n",
    "input string should be \" Te n*eT\""
   ]
  },
  {
   "cell_type": "code",
   "execution_count": 33,
   "id": "d83eeff6",
   "metadata": {},
   "outputs": [
    {
     "data": {
      "text/plain": [
       "'te n*et'"
      ]
     },
     "execution_count": 33,
     "metadata": {},
     "output_type": "execute_result"
    }
   ],
   "source": [
    "Movie = \"Te n*eT\"\n",
    "Movie.replace(\" \",\"\")\n",
    "Movie.lower()"
   ]
  },
  {
   "cell_type": "code",
   "execution_count": 30,
   "id": "6d69d63f",
   "metadata": {},
   "outputs": [],
   "source": [
    "Movie = ''.join(ele for ele in Movie if ele.isalnum())"
   ]
  },
  {
   "cell_type": "code",
   "execution_count": 34,
   "id": "1af3674f",
   "metadata": {},
   "outputs": [
    {
     "data": {
      "text/plain": [
       "False"
      ]
     },
     "execution_count": 34,
     "metadata": {},
     "output_type": "execute_result"
    }
   ],
   "source": [
    "Movie==Movie[::-1]"
   ]
  },
  {
   "cell_type": "code",
   "execution_count": 36,
   "id": "e7c4e9ca",
   "metadata": {},
   "outputs": [],
   "source": [
    "def fibonaaciCheck(text):\n",
    "    Movie = text\n",
    "    Movie=Movie.replace(\" \",\"\")\n",
    "    Movie=Movie.lower()\n",
    "    Movie = ''.join(ele for ele in Movie if ele.isalnum())\n",
    "    print(\"cleaned text is %s\"%Movie)\n",
    "    print(\"text in reverse order is %s\"%Movie[::-1])\n",
    "    compare = Movie==Movie[::-1]\n",
    "    if compare == True:\n",
    "        print(\"Yes it is Fibonaaci\")\n",
    "    else:\n",
    "        print(\"Not a Fibonaaci\")\n",
    "    "
   ]
  },
  {
   "cell_type": "code",
   "execution_count": 40,
   "id": "81752fe4",
   "metadata": {},
   "outputs": [
    {
     "name": "stdout",
     "output_type": "stream",
     "text": [
      "cleaned text is madam\n",
      "text in reverse order is madam\n",
      "Yes it is Fibonaaci\n"
     ]
    }
   ],
   "source": [
    "fibonaaciCheck(\"madam\")"
   ]
  },
  {
   "cell_type": "code",
   "execution_count": 44,
   "id": "586704de",
   "metadata": {},
   "outputs": [
    {
     "data": {
      "text/plain": [
       "['T', 'e', ' ', 'n', '*', 'e', 'T']"
      ]
     },
     "execution_count": 44,
     "metadata": {},
     "output_type": "execute_result"
    }
   ],
   "source": [
    "[ele for ele in Movie if ele.isalnum()]"
   ]
  },
  {
   "cell_type": "code",
   "execution_count": 48,
   "id": "36ce07a9",
   "metadata": {},
   "outputs": [],
   "source": [
    "# \"*\".isalnum()   --- checks if the characters are alphanumeric or not."
   ]
  },
  {
   "cell_type": "code",
   "execution_count": 6,
   "id": "f66e8230",
   "metadata": {},
   "outputs": [
    {
     "ename": "NameError",
     "evalue": "name 'Movie' is not defined",
     "output_type": "error",
     "traceback": [
      "\u001b[1;31m---------------------------------------------------------------------------\u001b[0m",
      "\u001b[1;31mNameError\u001b[0m                                 Traceback (most recent call last)",
      "\u001b[1;32m~\\AppData\\Local\\Temp/ipykernel_1436/1806593812.py\u001b[0m in \u001b[0;36m<module>\u001b[1;34m\u001b[0m\n\u001b[1;32m----> 1\u001b[1;33m \u001b[0mMovie\u001b[0m\u001b[1;33m\u001b[0m\u001b[1;33m\u001b[0m\u001b[0m\n\u001b[0m",
      "\u001b[1;31mNameError\u001b[0m: name 'Movie' is not defined"
     ]
    }
   ],
   "source": [
    "Movie"
   ]
  },
  {
   "cell_type": "code",
   "execution_count": 56,
   "id": "aac77344",
   "metadata": {},
   "outputs": [
    {
     "data": {
      "text/plain": [
       "True"
      ]
     },
     "execution_count": 56,
     "metadata": {},
     "output_type": "execute_result"
    }
   ],
   "source": [
    "Movie=Movie.replace(\"*\",\" \")\n",
    "Movie=Movie.replace(\" \",\"\")\n",
    "Movie.lower()\n",
    "Movie==Movie[::-1]"
   ]
  },
  {
   "cell_type": "code",
   "execution_count": 12,
   "id": "70111ab8",
   "metadata": {},
   "outputs": [
    {
     "data": {
      "text/plain": [
       "['H', 'a', 'p', 'p', 'y']"
      ]
     },
     "execution_count": 12,
     "metadata": {},
     "output_type": "execute_result"
    }
   ],
   "source": [
    "Movie=\"Happy\"\n",
    "[ele for ele in Movie]\n",
    "  "
   ]
  },
  {
   "cell_type": "markdown",
   "id": "82273f46",
   "metadata": {},
   "source": [
    "Exercise 1: Print First 10 natural numbers using while loop\n",
    "Exercise 2: Print the following pattern\n",
    "Exercise 3: Calculate the sum of all numbers from 1 to a given number\n",
    "Exercise 4: Write a program to print multiplication table of a given number\n",
    "Exercise 5: Display numbers from a list using loop\n",
    "Exercise 6: Count the total number of digits in a number\n",
    "Exercise 7: Print the following pattern\n",
    "Exercise 8: Print list in reverse order using a loop\n",
    "Exercise 9: Display numbers from -10 to -1 using for loop\n",
    "Exercise 10: Use else block to display a message “Done” after successful execution of for loop\n",
    "Exercise 11: Write a program to display all prime numbers within a range\n",
    "Exercise 12: Display Fibonacci series up to 10 terms\n",
    "Exercise 13: Find the factorial of a given number\n",
    "Exercise 14: Reverse a given integer number\n",
    "Exercise 15: Use a loop to display elements from a given list present at odd index positions\n",
    "Exercise 16: Calculate the cube of all numbers from 1 to a given number\n",
    "Exercise 17: Find the sum of the series upto n terms\n",
    "Exercise 18: Print the following pattern\n"
   ]
  },
  {
   "cell_type": "code",
   "execution_count": 2,
   "id": "8ca348a2",
   "metadata": {},
   "outputs": [
    {
     "name": "stdout",
     "output_type": "stream",
     "text": [
      "1\n",
      "2\n",
      "3\n",
      "4\n",
      "5\n",
      "6\n",
      "7\n",
      "8\n",
      "9\n",
      "10\n",
      "These are the 10 Natural Numbers.\n"
     ]
    }
   ],
   "source": [
    "#1\n",
    "switch = 1\n",
    "Natural_Num=0\n",
    "while switch:\n",
    "    Natural_Num = Natural_Num+1\n",
    "    if Natural_Num <= 10:\n",
    "        print(Natural_Num)\n",
    "    else:\n",
    "        switch = 0\n",
    "        print(\"These are the 10 Natural Numbers.\")\n"
   ]
  },
  {
   "cell_type": "code",
   "execution_count": null,
   "id": "f32e29a8",
   "metadata": {},
   "outputs": [],
   "source": []
  }
 ],
 "metadata": {
  "kernelspec": {
   "display_name": "Python 3 (ipykernel)",
   "language": "python",
   "name": "python3"
  },
  "language_info": {
   "codemirror_mode": {
    "name": "ipython",
    "version": 3
   },
   "file_extension": ".py",
   "mimetype": "text/x-python",
   "name": "python",
   "nbconvert_exporter": "python",
   "pygments_lexer": "ipython3",
   "version": "3.10.0"
  }
 },
 "nbformat": 4,
 "nbformat_minor": 5
}
