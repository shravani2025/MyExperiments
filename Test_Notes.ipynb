{
 "cells": [
  {
   "cell_type": "code",
   "execution_count": 8,
   "id": "3a73212c",
   "metadata": {},
   "outputs": [
    {
     "name": "stdout",
     "output_type": "stream",
     "text": [
      " \n"
     ]
    }
   ],
   "source": [
    "Empty=\" \"\n",
    "print(Empty)"
   ]
  },
  {
   "cell_type": "code",
   "execution_count": 7,
   "id": "f533111b",
   "metadata": {},
   "outputs": [
    {
     "name": "stdout",
     "output_type": "stream",
     "text": [
      " Rana\n"
     ]
    }
   ],
   "source": [
    "print(Empty+\"Rana\")"
   ]
  },
  {
   "cell_type": "code",
   "execution_count": 14,
   "id": "810af723",
   "metadata": {},
   "outputs": [
    {
     "name": "stdout",
     "output_type": "stream",
     "text": [
      "rana\n",
      "RANA\n"
     ]
    }
   ],
   "source": [
    "Bangaru_Name=\"Rana\"\n",
    "Bangaru_Name = Bangaru_Name.lower()\n",
    "print(Bangaru_Name)\n",
    "Bangaru_Name=Bangaru_Name.upper()\n",
    "print(Bangaru_Name)"
   ]
  },
  {
   "cell_type": "markdown",
   "id": "f7d4023f",
   "metadata": {},
   "source": [
    "### Problem 1\n",
    "Take two inputs from user which is A (Name of a person) and B (Age of a person) and print name of the person Age number of times"
   ]
  },
  {
   "cell_type": "code",
   "execution_count": 31,
   "id": "706cf142",
   "metadata": {},
   "outputs": [
    {
     "name": "stdout",
     "output_type": "stream",
     "text": [
      "RanaRana\n"
     ]
    }
   ],
   "source": [
    "A=\"Rana\"\n",
    "B=2\n",
    "# print(\"%s is %s years old \"%(A,(B*2)))\n",
    "print(A * B)"
   ]
  },
  {
   "cell_type": "markdown",
   "id": "e12d756f",
   "metadata": {},
   "source": [
    "### Problem 2\n",
    "Take a string as input and print the reverse way of that string\n",
    "\n",
    "If Rana is given, then the output should be anaR"
   ]
  },
  {
   "cell_type": "code",
   "execution_count": 32,
   "id": "2f19d085",
   "metadata": {},
   "outputs": [
    {
     "data": {
      "text/plain": [
       "'anaR'"
      ]
     },
     "execution_count": 32,
     "metadata": {},
     "output_type": "execute_result"
    }
   ],
   "source": [
    "Name=\"Rana\"\n",
    "Name[::-1]"
   ]
  },
  {
   "cell_type": "markdown",
   "id": "9e83991c",
   "metadata": {},
   "source": [
    "### Problem 3\n",
    "\n",
    "Take a string as input, remove extra spaces if any, remove special characters if any, convert the string to lowercase and add two dollar symbols infront of this string and store it into a variable. see if it is fibonaaci string or not\n",
    "\n",
    "input string should be \" Te n*eT\""
   ]
  },
  {
   "cell_type": "code",
   "execution_count": 33,
   "id": "d83eeff6",
   "metadata": {},
   "outputs": [
    {
     "data": {
      "text/plain": [
       "'te n*et'"
      ]
     },
     "execution_count": 33,
     "metadata": {},
     "output_type": "execute_result"
    }
   ],
   "source": [
    "Movie = \"Te n*eT\"\n",
    "Movie.replace(\" \",\"\")\n",
    "Movie.lower()"
   ]
  },
  {
   "cell_type": "code",
   "execution_count": 30,
   "id": "6d69d63f",
   "metadata": {},
   "outputs": [],
   "source": [
    "Movie = ''.join(ele for ele in Movie if ele.isalnum())"
   ]
  },
  {
   "cell_type": "code",
   "execution_count": 34,
   "id": "1af3674f",
   "metadata": {},
   "outputs": [
    {
     "data": {
      "text/plain": [
       "False"
      ]
     },
     "execution_count": 34,
     "metadata": {},
     "output_type": "execute_result"
    }
   ],
   "source": [
    "Movie==Movie[::-1]"
   ]
  },
  {
   "cell_type": "code",
   "execution_count": 36,
   "id": "e7c4e9ca",
   "metadata": {},
   "outputs": [],
   "source": [
    "def fibonaaciCheck(text):\n",
    "    Movie = text\n",
    "    Movie=Movie.replace(\" \",\"\")\n",
    "    Movie=Movie.lower()\n",
    "    Movie = ''.join(ele for ele in Movie if ele.isalnum())\n",
    "    print(\"cleaned text is %s\"%Movie)\n",
    "    print(\"text in reverse order is %s\"%Movie[::-1])\n",
    "    compare = Movie==Movie[::-1]\n",
    "    if compare == True:\n",
    "        print(\"Yes it is Fibonaaci\")\n",
    "    else:\n",
    "        print(\"Not a Fibonaaci\")\n",
    "    "
   ]
  },
  {
   "cell_type": "code",
   "execution_count": 40,
   "id": "81752fe4",
   "metadata": {},
   "outputs": [
    {
     "name": "stdout",
     "output_type": "stream",
     "text": [
      "cleaned text is madam\n",
      "text in reverse order is madam\n",
      "Yes it is Fibonaaci\n"
     ]
    }
   ],
   "source": [
    "fibonaaciCheck(\"madam\")"
   ]
  },
  {
   "cell_type": "code",
   "execution_count": 44,
   "id": "586704de",
   "metadata": {},
   "outputs": [
    {
     "data": {
      "text/plain": [
       "['T', 'e', ' ', 'n', '*', 'e', 'T']"
      ]
     },
     "execution_count": 44,
     "metadata": {},
     "output_type": "execute_result"
    }
   ],
   "source": [
    "[ele for ele in Movie if ele.isalnum()]"
   ]
  },
  {
   "cell_type": "code",
   "execution_count": 48,
   "id": "36ce07a9",
   "metadata": {},
   "outputs": [],
   "source": [
    "# \"*\".isalnum()   --- checks if the characters are alphanumeric or not."
   ]
  },
  {
   "cell_type": "code",
   "execution_count": 6,
   "id": "f66e8230",
   "metadata": {},
   "outputs": [
    {
     "ename": "NameError",
     "evalue": "name 'Movie' is not defined",
     "output_type": "error",
     "traceback": [
      "\u001b[1;31m---------------------------------------------------------------------------\u001b[0m",
      "\u001b[1;31mNameError\u001b[0m                                 Traceback (most recent call last)",
      "\u001b[1;32m~\\AppData\\Local\\Temp/ipykernel_1436/1806593812.py\u001b[0m in \u001b[0;36m<module>\u001b[1;34m\u001b[0m\n\u001b[1;32m----> 1\u001b[1;33m \u001b[0mMovie\u001b[0m\u001b[1;33m\u001b[0m\u001b[1;33m\u001b[0m\u001b[0m\n\u001b[0m",
      "\u001b[1;31mNameError\u001b[0m: name 'Movie' is not defined"
     ]
    }
   ],
   "source": [
    "Movie"
   ]
  },
  {
   "cell_type": "code",
   "execution_count": 56,
   "id": "aac77344",
   "metadata": {},
   "outputs": [
    {
     "data": {
      "text/plain": [
       "True"
      ]
     },
     "execution_count": 56,
     "metadata": {},
     "output_type": "execute_result"
    }
   ],
   "source": [
    "Movie=Movie.replace(\"*\",\" \")\n",
    "Movie=Movie.replace(\" \",\"\")\n",
    "Movie.lower()\n",
    "Movie==Movie[::-1]"
   ]
  },
  {
   "cell_type": "code",
   "execution_count": 12,
   "id": "70111ab8",
   "metadata": {},
   "outputs": [
    {
     "data": {
      "text/plain": [
       "['H', 'a', 'p', 'p', 'y']"
      ]
     },
     "execution_count": 12,
     "metadata": {},
     "output_type": "execute_result"
    }
   ],
   "source": [
    "Movie=\"Happy\"\n",
    "[ele for ele in Movie]\n",
    "  "
   ]
  },
  {
   "cell_type": "markdown",
   "id": "82273f46",
   "metadata": {},
   "source": [
    "Print First 10 natural numbers using while loop\n"
   ]
  },
  {
   "cell_type": "code",
   "execution_count": 1,
   "id": "8ca348a2",
   "metadata": {},
   "outputs": [
    {
     "name": "stdout",
     "output_type": "stream",
     "text": [
      "1\n",
      "2\n",
      "3\n",
      "4\n",
      "5\n",
      "6\n",
      "7\n",
      "8\n",
      "9\n",
      "10\n",
      "These are the 10 Natural Numbers.\n"
     ]
    }
   ],
   "source": [
    "switch = 1\n",
    "Natural_Num=0\n",
    "while switch:\n",
    "    Natural_Num = Natural_Num+1\n",
    "    if Natural_Num <= 10:\n",
    "        print(Natural_Num)\n",
    "    else:\n",
    "        switch = 0\n",
    "        print(\"These are the 10 Natural Numbers.\")\n"
   ]
  },
  {
   "cell_type": "markdown",
   "id": "e5a33d1e",
   "metadata": {},
   "source": [
    "Given two integer numbers return their product only if the product is equal to or lower than 1000, else return their sum."
   ]
  },
  {
   "cell_type": "code",
   "execution_count": 61,
   "id": "de4e20f9",
   "metadata": {},
   "outputs": [
    {
     "name": "stdout",
     "output_type": "stream",
     "text": [
      "90\n"
     ]
    }
   ],
   "source": [
    "def x(a,b):\n",
    "    prod = (a*b)\n",
    "    if prod <=1000:\n",
    "        return prod\n",
    "    else:\n",
    "        return (a+b)\n",
    "\n",
    "Ans=x(60,30)\n",
    "print(Ans)"
   ]
  },
  {
   "cell_type": "markdown",
   "id": "c110a7cf",
   "metadata": {},
   "source": [
    "Write a program to iterate the first 10 numbers and in each iteration, print the sum of the current and previous number."
   ]
  },
  {
   "cell_type": "code",
   "execution_count": 108,
   "id": "27406c40",
   "metadata": {},
   "outputs": [
    {
     "name": "stdout",
     "output_type": "stream",
     "text": [
      "Previous value is 0 Current value is  1 Sum is  1\n",
      "Previous value is 1 Current value is  2 Sum is  3\n",
      "Previous value is 2 Current value is  3 Sum is  5\n",
      "Previous value is 3 Current value is  4 Sum is  7\n",
      "Previous value is 4 Current value is  5 Sum is  9\n",
      "Previous value is 5 Current value is  6 Sum is  11\n",
      "Previous value is 6 Current value is  7 Sum is  13\n",
      "Previous value is 7 Current value is  8 Sum is  15\n",
      "Previous value is 8 Current value is  9 Sum is  17\n",
      "Previous value is 9 Current value is  10 Sum is  19\n"
     ]
    }
   ],
   "source": [
    "for ele in range(10):\n",
    "    i=ele+1\n",
    "    Ans=ele+i\n",
    "#     print(Ans)\n",
    "    print(\"Previous value is\", ele, \"Current value is \",i, \"Sum is \",Ans)"
   ]
  },
  {
   "cell_type": "markdown",
   "id": "34b04a9a",
   "metadata": {},
   "source": [
    "Write a program to accept a string from the user and display characters that are present at an even index number."
   ]
  },
  {
   "cell_type": "code",
   "execution_count": 122,
   "id": "66cbb470",
   "metadata": {},
   "outputs": [
    {
     "data": {
      "text/plain": [
       "range(0, 11)"
      ]
     },
     "execution_count": 122,
     "metadata": {},
     "output_type": "execute_result"
    }
   ],
   "source": [
    "Name=\"RanaBangaru\"\n",
    "range(len(Name))\n"
   ]
  },
  {
   "cell_type": "code",
   "execution_count": 121,
   "id": "10725319",
   "metadata": {},
   "outputs": [
    {
     "data": {
      "text/plain": [
       "'RnBnau'"
      ]
     },
     "execution_count": 121,
     "metadata": {},
     "output_type": "execute_result"
    }
   ],
   "source": [
    "Name[0::2]"
   ]
  },
  {
   "cell_type": "code",
   "execution_count": 129,
   "id": "1a0e0609",
   "metadata": {},
   "outputs": [
    {
     "name": "stdout",
     "output_type": "stream",
     "text": [
      "R\n",
      "n\n",
      "B\n",
      "n\n",
      "a\n",
      "u\n"
     ]
    }
   ],
   "source": [
    "for i in Name[0::2]:\n",
    "    print(i)"
   ]
  },
  {
   "cell_type": "markdown",
   "id": "ee92a197",
   "metadata": {},
   "source": [
    "Write a program to remove characters from a string starting from zero up to n and return a new string."
   ]
  },
  {
   "cell_type": "code",
   "execution_count": 146,
   "id": "927f483f",
   "metadata": {},
   "outputs": [
    {
     "data": {
      "text/plain": [
       "'Native'"
      ]
     },
     "execution_count": 146,
     "metadata": {},
     "output_type": "execute_result"
    }
   ],
   "source": [
    "x=\"PyNative\"\n",
    "type(x)\n",
    "x[2::]"
   ]
  },
  {
   "cell_type": "markdown",
   "id": "3610f1e2",
   "metadata": {},
   "source": [
    "Write a function to return True if the first and last number of a given list is same. If numbers are different then return False."
   ]
  },
  {
   "cell_type": "code",
   "execution_count": 18,
   "id": "527408ea",
   "metadata": {},
   "outputs": [],
   "source": [
    "x = [10, 20, 30, 40, 10]\n",
    "y = [55, 67, 25, 45, 56]\n",
    "\n",
    "def v(x):\n",
    "    if x[0]==x[-1]:\n",
    "        return True\n",
    "    else:\n",
    "        return False"
   ]
  },
  {
   "cell_type": "code",
   "execution_count": 19,
   "id": "db9503a5",
   "metadata": {},
   "outputs": [
    {
     "data": {
      "text/plain": [
       "False"
      ]
     },
     "execution_count": 19,
     "metadata": {},
     "output_type": "execute_result"
    }
   ],
   "source": [
    "v(y)"
   ]
  },
  {
   "cell_type": "code",
   "execution_count": 151,
   "id": "184f2d4a",
   "metadata": {},
   "outputs": [
    {
     "data": {
      "text/plain": [
       "True"
      ]
     },
     "execution_count": 151,
     "metadata": {},
     "output_type": "execute_result"
    }
   ],
   "source": [
    "x[0]==x[-1]"
   ]
  },
  {
   "cell_type": "markdown",
   "id": "31eeb0a7",
   "metadata": {},
   "source": [
    "Iterate the given list of numbers and print only those numbers which are divisible by 5\n",
    "\n"
   ]
  },
  {
   "cell_type": "code",
   "execution_count": 36,
   "id": "30470569",
   "metadata": {},
   "outputs": [
    {
     "name": "stdout",
     "output_type": "stream",
     "text": [
      "B: [10, 20, 33, 46, 55]\n",
      "Divisible by 5:\n",
      "10\n",
      "20\n",
      "55\n"
     ]
    }
   ],
   "source": [
    "A = [10, 20, 33, 46, 55]\n",
    "print(\"B:\", A)\n",
    "print('Divisible by 5:')\n",
    "for i in A:\n",
    "    if i%5==0:\n",
    "        print(i)\n",
    "        "
   ]
  },
  {
   "cell_type": "markdown",
   "id": "36b43341",
   "metadata": {},
   "source": [
    "Write a program to find how many times substring “Emma” appears in the given string.\n",
    "\n"
   ]
  },
  {
   "cell_type": "code",
   "execution_count": 43,
   "id": "346c6a4d",
   "metadata": {},
   "outputs": [
    {
     "data": {
      "text/plain": [
       "2"
      ]
     },
     "execution_count": 43,
     "metadata": {},
     "output_type": "execute_result"
    }
   ],
   "source": [
    "X = \"Emma is good developer. Emma is a writer\"\n",
    "X.count(\"Emma\")"
   ]
  },
  {
   "cell_type": "markdown",
   "id": "8c82fca5",
   "metadata": {},
   "source": [
    "Print the following pattern\n",
    "\n",
    "* 1 \n",
    "* 2 2 \n",
    "* 3 3 3 \n",
    "* 4 4 4 4\n",
    "* 5 5 5 5 5\n",
    "\n"
   ]
  },
  {
   "cell_type": "code",
   "execution_count": 51,
   "id": "750be531",
   "metadata": {},
   "outputs": [
    {
     "name": "stdout",
     "output_type": "stream",
     "text": [
      "\n",
      "\n",
      "1 \n",
      "\n",
      "2 2 \n",
      "\n",
      "3 3 3 \n",
      "\n",
      "4 4 4 4 \n",
      "\n",
      "5 5 5 5 5 \n",
      "\n"
     ]
    }
   ],
   "source": [
    "for num in range(6):\n",
    "    for i in range(num):\n",
    "        print (num, end=\" \")\n",
    "    print(\"\\n\")"
   ]
  },
  {
   "cell_type": "markdown",
   "id": "4a204b49",
   "metadata": {},
   "source": [
    "Write a program to check if the given number is a palindrome number.\n",
    "\n",
    "original number 121\n",
    "Yes. given number is palindrome number\n",
    "\n",
    "original number 125\n",
    "No. given number is not palindrome number\n"
   ]
  },
  {
   "cell_type": "code",
   "execution_count": 106,
   "id": "79c586c9",
   "metadata": {},
   "outputs": [],
   "source": [
    "def x(A):\n",
    "    if A==B:\n",
    "        print(\"Yes. given number is palindrome number\")\n",
    "    else:\n",
    "        print(\"No. given number is not palindrome number\")\n",
    "A=\"120\"\n",
    "B=A[::-1]        "
   ]
  },
  {
   "cell_type": "code",
   "execution_count": 107,
   "id": "e83040e2",
   "metadata": {},
   "outputs": [
    {
     "name": "stdout",
     "output_type": "stream",
     "text": [
      "No. given number is not palindrome number\n"
     ]
    }
   ],
   "source": [
    "x(A)"
   ]
  },
  {
   "cell_type": "code",
   "execution_count": 83,
   "id": "8c0e3437",
   "metadata": {},
   "outputs": [
    {
     "data": {
      "text/plain": [
       "'anaR'"
      ]
     },
     "execution_count": 83,
     "metadata": {},
     "output_type": "execute_result"
    }
   ],
   "source": [
    "x=\"Rana\"\n",
    "x[::-1]\n"
   ]
  },
  {
   "cell_type": "markdown",
   "id": "806d8a25",
   "metadata": {},
   "source": [
    "Given a two list of numbers, write a program to create a new list such that the new list should contain odd numbers from the first list and even numbers from the second list.\n",
    "\n",
    "list1 = [10, 20, 25, 30, 35]\n",
    "list2 = [40, 45, 60, 75, 90]"
   ]
  },
  {
   "cell_type": "code",
   "execution_count": 141,
   "id": "c10caf9c",
   "metadata": {},
   "outputs": [],
   "source": [
    "def list(list1,list2):\n",
    "    new_list=[]\n",
    "    \n",
    "    for i in list1:\n",
    "        if i % 2 != 0:\n",
    "            new_list.append(i)\n",
    "            \n",
    "    for i in list2:\n",
    "        if i % 2 == 0:\n",
    "            new_list.append(i)\n",
    "            \n",
    "    return new_list\n",
    "   \n",
    "        \n",
    "list1 = [10, 20, 25, 30, 35]\n",
    "list2 = [40, 45, 60, 75, 90]"
   ]
  },
  {
   "cell_type": "code",
   "execution_count": 142,
   "id": "9e6b38e9",
   "metadata": {},
   "outputs": [
    {
     "name": "stdout",
     "output_type": "stream",
     "text": [
      "The Combined List is : [25, 35, 40, 60, 90]\n"
     ]
    }
   ],
   "source": [
    "print(\"The Combined List is :\", list(list1,list2))"
   ]
  },
  {
   "cell_type": "markdown",
   "id": "08c926e2",
   "metadata": {},
   "source": [
    " The given int is 7536, the output shall be “6 3 5 7“, with a space separating the digits."
   ]
  },
  {
   "cell_type": "code",
   "execution_count": 145,
   "id": "cecc39a6",
   "metadata": {},
   "outputs": [
    {
     "ename": "SyntaxError",
     "evalue": "invalid syntax. Perhaps you forgot a comma? (Temp/ipykernel_14168/4148621435.py, line 2)",
     "output_type": "error",
     "traceback": [
      "\u001b[1;36m  File \u001b[1;32m\"C:\\Users\\admin\\AppData\\Local\\Temp/ipykernel_14168/4148621435.py\"\u001b[1;36m, line \u001b[1;32m2\u001b[0m\n\u001b[1;33m    ask deepu\u001b[0m\n\u001b[1;37m    ^\u001b[0m\n\u001b[1;31mSyntaxError\u001b[0m\u001b[1;31m:\u001b[0m invalid syntax. Perhaps you forgot a comma?\n"
     ]
    }
   ],
   "source": [
    "a=\"7536\"\n",
    "ask deepu"
   ]
  },
  {
   "cell_type": "markdown",
   "id": "c0e43a69",
   "metadata": {},
   "source": [
    "3 questions pending."
   ]
  },
  {
   "cell_type": "markdown",
   "id": "9d636584",
   "metadata": {},
   "source": [
    "Write a program to accept two numbers from the user and calculate multiplication\n",
    "\n"
   ]
  },
  {
   "cell_type": "code",
   "execution_count": 2,
   "id": "27eafef6",
   "metadata": {},
   "outputs": [
    {
     "name": "stdout",
     "output_type": "stream",
     "text": [
      "First number: 4\n",
      "Second number: 5\n",
      "20\n"
     ]
    }
   ],
   "source": [
    "x=int(input(\"First number: \"))\n",
    "y=int(input(\"Second number: \"))\n",
    "\n",
    "mult=x*y\n",
    "\n",
    "print(mult)"
   ]
  },
  {
   "cell_type": "markdown",
   "id": "0b3191f6",
   "metadata": {},
   "source": [
    "Use the print() function to format the given words in the mentioned format. Display the ** separator between each string.\n",
    "\n",
    "print('Name', 'Is', 'James') will display Name** Is **James\n",
    "\n"
   ]
  },
  {
   "cell_type": "code",
   "execution_count": 6,
   "id": "48c02d4e",
   "metadata": {},
   "outputs": [
    {
     "name": "stdout",
     "output_type": "stream",
     "text": [
      "Name***is***James\n"
     ]
    }
   ],
   "source": [
    "print(\"Name\",\"is\",\"James\",sep=\"***\")  "
   ]
  },
  {
   "cell_type": "markdown",
   "id": "2614fd36",
   "metadata": {},
   "source": [
    "Convert Decimal number to octal using print() output formatting\n",
    "\n",
    "ask deepu"
   ]
  },
  {
   "cell_type": "markdown",
   "id": "34004534",
   "metadata": {},
   "source": [
    "Display float number with 2 decimal places using print()\n",
    "\n"
   ]
  },
  {
   "cell_type": "code",
   "execution_count": 11,
   "id": "258d44b4",
   "metadata": {},
   "outputs": [
    {
     "data": {
      "text/plain": [
       "458.54"
      ]
     },
     "execution_count": 11,
     "metadata": {},
     "output_type": "execute_result"
    }
   ],
   "source": [
    "num = 458.541315\n",
    "round(458.541315,2)\n",
    "\n",
    "# comfirm with deepu"
   ]
  },
  {
   "cell_type": "markdown",
   "id": "3810f09f",
   "metadata": {},
   "source": [
    " Accept a list of 5 float numbers as an input from the user"
   ]
  },
  {
   "cell_type": "markdown",
   "id": "435073c1",
   "metadata": {},
   "source": [
    "I have 1000 dollars so I can buy 3 football for 450.00 dollars.\n"
   ]
  },
  {
   "cell_type": "code",
   "execution_count": 16,
   "id": "07527a7c",
   "metadata": {},
   "outputs": [
    {
     "name": "stdout",
     "output_type": "stream",
     "text": [
      "I have 1000 dollars so I can buy 3 footballs for 450 dollars,\n"
     ]
    }
   ],
   "source": [
    "totalMoney = 1000\n",
    "quantity = 3\n",
    "price = 450\n",
    "\n",
    "print(\"I have %s dollars so I can buy %s footballs for %s dollars,\" %(totalMoney,quantity,price))"
   ]
  },
  {
   "cell_type": "markdown",
   "id": "15cde7c7",
   "metadata": {},
   "source": [
    "3 questions pending \n",
    "try tmrw"
   ]
  },
  {
   "cell_type": "markdown",
   "id": "768b854b",
   "metadata": {},
   "source": [
    "s1 = \"Ault\"\n",
    "s2 = \"Kelly\""
   ]
  },
  {
   "cell_type": "code",
   "execution_count": 1,
   "id": "b46a5e23",
   "metadata": {},
   "outputs": [],
   "source": [
    "# AuKellylt\n",
    "s1= \"Ault\"\n",
    "s2=\"Kelly\"\n",
    "\n",
    "s3=s1+s2+\"It\"\n"
   ]
  },
  {
   "cell_type": "code",
   "execution_count": 2,
   "id": "c1b694a5",
   "metadata": {},
   "outputs": [
    {
     "data": {
      "text/plain": [
       "'AultKellyIt'"
      ]
     },
     "execution_count": 2,
     "metadata": {},
     "output_type": "execute_result"
    }
   ],
   "source": [
    "s3"
   ]
  },
  {
   "cell_type": "markdown",
   "id": "0384f585",
   "metadata": {},
   "source": [
    "Write a program to create a function that takes two arguments, name and age, and print their value."
   ]
  },
  {
   "cell_type": "code",
   "execution_count": 5,
   "id": "9fa4c43b",
   "metadata": {},
   "outputs": [
    {
     "name": "stdout",
     "output_type": "stream",
     "text": [
      "Rana 1\n"
     ]
    }
   ],
   "source": [
    "def trail(Name,Age):\n",
    "    print(Name,Age)\n",
    "trail(\"Rana\",1)    "
   ]
  },
  {
   "cell_type": "markdown",
   "id": "7f2ad94e",
   "metadata": {},
   "source": [
    "Return multiple values from a function"
   ]
  },
  {
   "cell_type": "code",
   "execution_count": 10,
   "id": "06f8e510",
   "metadata": {},
   "outputs": [
    {
     "name": "stdout",
     "output_type": "stream",
     "text": [
      "(-10, 110)\n"
     ]
    }
   ],
   "source": [
    "def mult_f(x,y):\n",
    "        sub=x-y\n",
    "        add=x+y\n",
    "        return sub,add\n",
    "nums=mult_f(50,60) \n",
    "print(nums)"
   ]
  },
  {
   "cell_type": "markdown",
   "id": "9ea3b083",
   "metadata": {},
   "source": [
    "Create a function with default argument"
   ]
  },
  {
   "cell_type": "code",
   "execution_count": 11,
   "id": "6b1182a6",
   "metadata": {},
   "outputs": [
    {
     "name": "stdout",
     "output_type": "stream",
     "text": [
      "Name: Ben salary: 12000\n",
      "Name: Jessa salary: 9000\n"
     ]
    }
   ],
   "source": [
    "def show_employee(name, salary=9000):\n",
    "    print(\"Name:\", name, \"salary:\", salary)\n",
    "\n",
    "show_employee(\"Ben\", 12000)\n",
    "show_employee(\"Jessa\")"
   ]
  },
  {
   "cell_type": "markdown",
   "id": "1a18d0e7",
   "metadata": {},
   "source": [
    "Write a program to create a recursive function to calculate the sum of numbers from 0 to 10."
   ]
  },
  {
   "cell_type": "code",
   "execution_count": 17,
   "id": "d1ee2661",
   "metadata": {},
   "outputs": [
    {
     "name": "stdout",
     "output_type": "stream",
     "text": [
      "55\n"
     ]
    }
   ],
   "source": [
    "def a(x):\n",
    "    if x:\n",
    "        return x+a(x-1)\n",
    "    else:\n",
    "        return 0\n",
    "res=a(10)\n",
    "print(res)"
   ]
  },
  {
   "cell_type": "markdown",
   "id": "aee71e34",
   "metadata": {},
   "source": [
    "Generate a Python list of all the even numbers between 4 to 30"
   ]
  },
  {
   "cell_type": "code",
   "execution_count": 18,
   "id": "f468afae",
   "metadata": {},
   "outputs": [
    {
     "data": {
      "text/plain": [
       "[4, 6, 8, 10, 12, 14, 16, 18, 20, 22, 24, 26, 28]"
      ]
     },
     "execution_count": 18,
     "metadata": {},
     "output_type": "execute_result"
    }
   ],
   "source": [
    "list(range(4,30,2))"
   ]
  },
  {
   "cell_type": "markdown",
   "id": "0dae7844",
   "metadata": {},
   "source": [
    "Find the largest item from a given list"
   ]
  },
  {
   "cell_type": "code",
   "execution_count": 20,
   "id": "9af9e86e",
   "metadata": {},
   "outputs": [
    {
     "data": {
      "text/plain": [
       "24"
      ]
     },
     "execution_count": 20,
     "metadata": {},
     "output_type": "execute_result"
    }
   ],
   "source": [
    "x = [4, 6, 8, 24, 12, 2]\n",
    "x1=max(x)\n",
    "x1"
   ]
  },
  {
   "cell_type": "markdown",
   "id": "e32ce029",
   "metadata": {},
   "source": [
    "Write a program to remove the item present at index 4 and add it to the 2nd position and at the end of the list."
   ]
  },
  {
   "cell_type": "code",
   "execution_count": 34,
   "id": "336cae77",
   "metadata": {},
   "outputs": [
    {
     "name": "stdout",
     "output_type": "stream",
     "text": [
      "91\n"
     ]
    }
   ],
   "source": [
    "num=[54, 44, 27, 79, 91, 41]\n",
    "num1=num.pop(4)\n",
    "num.insert(2,num1)\n",
    "num.append(num1)\n",
    "print(num1)"
   ]
  },
  {
   "cell_type": "code",
   "execution_count": 28,
   "id": "a9b354db",
   "metadata": {},
   "outputs": [
    {
     "name": "stdout",
     "output_type": "stream",
     "text": [
      "Original list  [34, 54, 67, 89, 11, 43, 94]\n",
      "List After removing element at index 4  [34, 54, 67, 89, 43, 94]\n",
      "List after Adding element at index 2  [34, 54, 11, 67, 89, 43, 94]\n",
      "List after Adding element at last  [34, 54, 11, 67, 89, 43, 94, 11]\n"
     ]
    }
   ],
   "source": [
    "sample_list = [34, 54, 67, 89, 11, 43, 94]\n",
    "\n",
    "print(\"Original list \", sample_list)\n",
    "element = sample_list.pop(4)\n",
    "print(\"List After removing element at index 4 \", sample_list)\n",
    "\n",
    "sample_list.insert(2, element)\n",
    "print(\"List after Adding element at index 2 \", sample_list)\n",
    "\n",
    "sample_list.append(element)\n",
    "print(\"List after Adding element at last \", sample_list)"
   ]
  },
  {
   "cell_type": "markdown",
   "id": "48eecaa5",
   "metadata": {},
   "source": [
    "Slice list into 3 equal chunks and reverse each chunk"
   ]
  },
  {
   "cell_type": "code",
   "execution_count": 6,
   "id": "a7011f46",
   "metadata": {},
   "outputs": [
    {
     "data": {
      "text/plain": [
       "[8, 45, 11]"
      ]
     },
     "execution_count": 6,
     "metadata": {},
     "output_type": "execute_result"
    }
   ],
   "source": [
    "chunk= [11, 45, 8, 23, 14, 12, 78, 45, 89]\n",
    "chunk1=chunk[0:3]\n",
    "chunk1[::-1]\n"
   ]
  },
  {
   "cell_type": "code",
   "execution_count": 83,
   "id": "7032ff51",
   "metadata": {},
   "outputs": [
    {
     "ename": "SyntaxError",
     "evalue": "invalid syntax (Temp/ipykernel_10852/182391650.py, line 4)",
     "output_type": "error",
     "traceback": [
      "\u001b[1;36m  File \u001b[1;32m\"C:\\Users\\admin\\AppData\\Local\\Temp/ipykernel_10852/182391650.py\"\u001b[1;36m, line \u001b[1;32m4\u001b[0m\n\u001b[1;33m    chunk_r=reverse(chunk):\u001b[0m\n\u001b[1;37m                          ^\u001b[0m\n\u001b[1;31mSyntaxError\u001b[0m\u001b[1;31m:\u001b[0m invalid syntax\n"
     ]
    }
   ],
   "source": [
    "chunk\n",
    "\n",
    "for i in range(3):\n",
    "    chunk_r=reverse(chunk):\n",
    "print(chunk_r)"
   ]
  },
  {
   "cell_type": "code",
   "execution_count": 19,
   "id": "f4b6d00f",
   "metadata": {},
   "outputs": [
    {
     "name": "stdout",
     "output_type": "stream",
     "text": [
      "Original list  [34, 56, 56, 23, 12, 34, 34, 89, 78, 78]\n",
      "Printing count of each item   {34: 3, 56: 2, 23: 1, 12: 1, 89: 1, 78: 2}\n"
     ]
    }
   ],
   "source": [
    "sample_list = [34,56,56,23,12,34,34,89,78,78]\n",
    "print(\"Original list \", sample_list)\n",
    "\n",
    "count_dict = dict()\n",
    "for item in sample_list:\n",
    "    if item in count_dict:\n",
    "        count_dict[item] += 1\n",
    "    else:\n",
    "        count_dict[item] = 1\n",
    "\n",
    "print(\"Printing count of each item  \", count_dict)\n"
   ]
  },
  {
   "cell_type": "markdown",
   "id": "18d069f9",
   "metadata": {},
   "source": [
    "Remove duplicates from a list and create a tuple and find the minimum and maximum number"
   ]
  },
  {
   "cell_type": "code",
   "execution_count": 41,
   "id": "2745fe19",
   "metadata": {},
   "outputs": [
    {
     "name": "stdout",
     "output_type": "stream",
     "text": [
      "m_list [87, 45, 41, 65, 94, 41, 99, 94]\n",
      "l_list [65, 99, 41, 45, 87, 94]\n",
      "tuple  (65, 99, 41, 45, 87, 94)\n",
      "Minimum number is:  41\n",
      "Maximum number is:  99\n"
     ]
    },
    {
     "data": {
      "text/plain": [
       "list"
      ]
     },
     "execution_count": 41,
     "metadata": {},
     "output_type": "execute_result"
    }
   ],
   "source": [
    "m_list = [87, 45, 41, 65, 94, 41, 99, 94]\n",
    "print(\"m_list\", m_list)\n",
    "\n",
    "m_list = list(set(m_list))\n",
    "print(\"l_list\", m_list)\n",
    "\n",
    "t = tuple(m_list)\n",
    "print(\"tuple \", t)\n",
    "\n",
    "print(\"Minimum number is: \", min(t))\n",
    "print(\"Maximum number is: \", max(t))\n",
    "type(m_list)         "
   ]
  },
  {
   "cell_type": "code",
   "execution_count": 45,
   "id": "6978406f",
   "metadata": {},
   "outputs": [
    {
     "data": {
      "text/plain": [
       "tuple"
      ]
     },
     "execution_count": 45,
     "metadata": {},
     "output_type": "execute_result"
    }
   ],
   "source": [
    "m=list(set(m_list))\n",
    "m=tuple(m)\n",
    "type(m)"
   ]
  },
  {
   "cell_type": "markdown",
   "id": "15f8c23b",
   "metadata": {},
   "source": [
    "Iterate a given list and check if a given element exists as a key’s value in a dictionary. If not, delete it from the list"
   ]
  },
  {
   "cell_type": "code",
   "execution_count": 54,
   "id": "fc5f64ef",
   "metadata": {},
   "outputs": [
    {
     "data": {
      "text/plain": [
       "[47, 69, 76, 97]"
      ]
     },
     "execution_count": 54,
     "metadata": {},
     "output_type": "execute_result"
    }
   ],
   "source": [
    "list1= [47, 64, 69, 37, 76, 83, 95, 97]\n",
    "dict1 = {'Jhon':47, 'Emma':69, 'Kelly':76, 'Jason':97}\n",
    "\n",
    "result=[ele for ele in list1 if ele in dict1.values()]\n",
    "result"
   ]
  },
  {
   "cell_type": "markdown",
   "id": "ec2673a3",
   "metadata": {},
   "source": [
    "Checks if one set is a subset or superset of another set. If found, delete all elements from that set"
   ]
  },
  {
   "cell_type": "markdown",
   "id": "7c0b2718",
   "metadata": {},
   "source": [
    "ask deepu"
   ]
  },
  {
   "cell_type": "markdown",
   "id": "e6fee41d",
   "metadata": {},
   "source": [
    "Reverse a list in Python"
   ]
  },
  {
   "cell_type": "code",
   "execution_count": 60,
   "id": "4416df11",
   "metadata": {},
   "outputs": [
    {
     "data": {
      "text/plain": [
       "[500, 400, 300, 200, 100]"
      ]
     },
     "execution_count": 60,
     "metadata": {},
     "output_type": "execute_result"
    }
   ],
   "source": [
    "list1 = [100, 200, 300, 400, 500]\n",
    "# list1.reverse()\n",
    "list1[::-1]"
   ]
  },
  {
   "cell_type": "markdown",
   "id": "fb1abe00",
   "metadata": {},
   "source": [
    "Concatenate two lists index-wise"
   ]
  },
  {
   "cell_type": "code",
   "execution_count": 70,
   "id": "3e6672ba",
   "metadata": {},
   "outputs": [
    {
     "name": "stdout",
     "output_type": "stream",
     "text": [
      "['My', 'name', 'is', 'Kelly']\n"
     ]
    }
   ],
   "source": [
    "list1 = [\"M\", \"na\", \"i\", \"Ke\"]\n",
    "list2 = [\"y\", \"me\", \"s\", \"lly\"]\n",
    "listr=[i+j for i,j in zip(list1,list2)]\n",
    "print(listr)"
   ]
  },
  {
   "cell_type": "markdown",
   "id": "e4252856",
   "metadata": {},
   "source": [
    "Given a list of numbers. write a program to turn every item of a list into its square."
   ]
  },
  {
   "cell_type": "code",
   "execution_count": 89,
   "id": "81f9bcfc",
   "metadata": {},
   "outputs": [
    {
     "name": "stdout",
     "output_type": "stream",
     "text": [
      "[1, 4, 9, 16, 25, 36, 49, 81]\n"
     ]
    }
   ],
   "source": [
    "numbers = [1, 2, 3, 4, 5, 6, 7,9]\n",
    "nums=[]\n",
    "\n",
    "for i in numbers:\n",
    "    nums.append(i*i)\n",
    "     \n",
    "print(nums)      "
   ]
  },
  {
   "cell_type": "markdown",
   "id": "29b1bc6c",
   "metadata": {},
   "source": [
    "Concatenate two lists in the following order\n"
   ]
  },
  {
   "cell_type": "code",
   "execution_count": 88,
   "id": "ff4d8463",
   "metadata": {},
   "outputs": [
    {
     "data": {
      "text/plain": [
       "['Hello Dear', 'Hello Sir', 'take Dear', 'take Sir']"
      ]
     },
     "execution_count": 88,
     "metadata": {},
     "output_type": "execute_result"
    }
   ],
   "source": [
    "list1 = [\"Hello \", \"take \"]\n",
    "list2 = [\"Dear\", \"Sir\"]\n",
    "\n",
    "listl=[x+y for x in list1 for y in list2]\n",
    "listl"
   ]
  },
  {
   "cell_type": "markdown",
   "id": "d678d8a3",
   "metadata": {},
   "source": [
    "You have given a Python list. Write a program to find value 20 in the list, and if it is present, replace it with 200. Only update the first occurrence of an item.\n",
    "\n"
   ]
  },
  {
   "cell_type": "code",
   "execution_count": 101,
   "id": "85f863a1",
   "metadata": {},
   "outputs": [
    {
     "data": {
      "text/plain": [
       "[5, 10, 15, 200, 25, 50, 20]"
      ]
     },
     "execution_count": 101,
     "metadata": {},
     "output_type": "execute_result"
    }
   ],
   "source": [
    "list1 = [5, 10, 15, 20, 25, 50, 20]\n",
    "list1[3]=200\n",
    "list1"
   ]
  },
  {
   "cell_type": "markdown",
   "id": "b1a2f9f5",
   "metadata": {},
   "source": [
    "write a program to remove all occurrences of item 20."
   ]
  },
  {
   "cell_type": "code",
   "execution_count": 132,
   "id": "042541c8",
   "metadata": {},
   "outputs": [
    {
     "name": "stdout",
     "output_type": "stream",
     "text": [
      "[5, 15, 25, 50]\n"
     ]
    }
   ],
   "source": [
    "list1 = [5, 20, 15, 20, 25, 50, 20]\n",
    "\n",
    "\n",
    "def removing_value(Name_list,value):\n",
    "    \n",
    "    result_list=[]\n",
    "    \n",
    "#      return [i for i in Name_list if i !=value]\n",
    "    for i in Name_list:\n",
    "        if i != value:\n",
    "            result_list.append(i)\n",
    "    \n",
    "    return result_list\n",
    "removing_value(list1,20)\n",
    "# print(res)\n",
    "\n",
    "while 20 in list1:\n",
    "    list1.remove(20)\n",
    "print(list1)\n",
    "       "
   ]
  },
  {
   "cell_type": "markdown",
   "id": "5ca945b5",
   "metadata": {},
   "source": [
    "Convert two lists into a dictionary"
   ]
  },
  {
   "cell_type": "code",
   "execution_count": 137,
   "id": "96d6268e",
   "metadata": {},
   "outputs": [
    {
     "data": {
      "text/plain": [
       "{'Ten': 10, 'Twenty': 20, 'Thirty': 30}"
      ]
     },
     "execution_count": 137,
     "metadata": {},
     "output_type": "execute_result"
    }
   ],
   "source": [
    "keys = ['Ten', 'Twenty', 'Thirty']\n",
    "values = [10, 20, 30]\n",
    "\n",
    "firstd=dict(zip(keys,values))\n",
    "firstd"
   ]
  },
  {
   "cell_type": "markdown",
   "id": "04eac89b",
   "metadata": {},
   "source": [
    "Merge two Python dictionaries into one\n"
   ]
  },
  {
   "cell_type": "code",
   "execution_count": 141,
   "id": "d46b653e",
   "metadata": {},
   "outputs": [
    {
     "data": {
      "text/plain": [
       "{'Ten': 10, 'Twenty': 20, 'Thirty': 30, 'Fourty': 40, 'Fifty': 50}"
      ]
     },
     "execution_count": 141,
     "metadata": {},
     "output_type": "execute_result"
    }
   ],
   "source": [
    "dict1 = {'Ten': 10, 'Twenty': 20, 'Thirty': 30}\n",
    "dict2 = {'Thirty': 30, 'Fourty': 40, 'Fifty': 50}\n",
    "\n",
    "dictf={**dict1,**dict2}\n",
    "dictf\n",
    "\n",
    "# ask deepu"
   ]
  },
  {
   "cell_type": "markdown",
   "id": "5185a82d",
   "metadata": {},
   "source": [
    "Check if a value exists in a dictionary"
   ]
  },
  {
   "cell_type": "code",
   "execution_count": 4,
   "id": "635f4121",
   "metadata": {},
   "outputs": [
    {
     "name": "stdout",
     "output_type": "stream",
     "text": [
      "There's the number.\n"
     ]
    }
   ],
   "source": [
    "sample_dict = {'a': 100, 'b': 200, 'c': 300}\n",
    "if 200 in sample_dict.values():\n",
    "    print(\"There's the number.\")"
   ]
  },
  {
   "cell_type": "markdown",
   "id": "12448a9f",
   "metadata": {},
   "source": [
    "Rename key of a dictionary"
   ]
  },
  {
   "cell_type": "code",
   "execution_count": 9,
   "id": "c1f133b6",
   "metadata": {},
   "outputs": [
    {
     "data": {
      "text/plain": [
       "{'name': 'Kelly', 'age': 25, 'salary': 8000, 'location': 'New york'}"
      ]
     },
     "execution_count": 9,
     "metadata": {},
     "output_type": "execute_result"
    }
   ],
   "source": [
    "dict1={\"name\": \"Kelly\",\n",
    "  \"age\":25,\n",
    "  \"salary\": 8000,\n",
    "  \"city\": \"New york\"\n",
    "      }\n",
    "dict1[\"location\"]=dict1.pop(\"city\")\n",
    "dict1"
   ]
  },
  {
   "cell_type": "code",
   "execution_count": null,
   "id": "e565bb41",
   "metadata": {},
   "outputs": [],
   "source": []
  }
 ],
 "metadata": {
  "kernelspec": {
   "display_name": "Python 3 (ipykernel)",
   "language": "python",
   "name": "python3"
  },
  "language_info": {
   "codemirror_mode": {
    "name": "ipython",
    "version": 3
   },
   "file_extension": ".py",
   "mimetype": "text/x-python",
   "name": "python",
   "nbconvert_exporter": "python",
   "pygments_lexer": "ipython3",
   "version": "3.10.0"
  }
 },
 "nbformat": 4,
 "nbformat_minor": 5
}
