{
 "cells": [
  {
   "cell_type": "markdown",
   "id": "e1b471ec",
   "metadata": {},
   "source": [
    "# Strings"
   ]
  },
  {
   "cell_type": "markdown",
   "id": "cba31325",
   "metadata": {},
   "source": [
    "<!-- <p><a href=#createString> Create String </a></p> -->"
   ]
  },
  {
   "cell_type": "markdown",
   "id": "604a6645",
   "metadata": {},
   "source": [
    "####  Print a string that uses double quotation marks inside the string."
   ]
  },
  {
   "cell_type": "code",
   "execution_count": 34,
   "id": "0bdd7587",
   "metadata": {},
   "outputs": [
    {
     "data": {
      "text/plain": [
       "'Rana'"
      ]
     },
     "execution_count": 34,
     "metadata": {},
     "output_type": "execute_result"
    }
   ],
   "source": [
    "Name=(\"Rana\")\n",
    "Name"
   ]
  },
  {
   "cell_type": "markdown",
   "id": "252b3050",
   "metadata": {},
   "source": [
    "#### Print a string that uses an apostrophe inside the string."
   ]
  },
  {
   "cell_type": "code",
   "execution_count": 35,
   "id": "d7ed6d4d",
   "metadata": {},
   "outputs": [
    {
     "data": {
      "text/plain": [
       "\"Mr.Rana'B\""
      ]
     },
     "execution_count": 35,
     "metadata": {},
     "output_type": "execute_result"
    }
   ],
   "source": [
    "Name1=\"Mr.Rana'B\"\n",
    "Name1"
   ]
  },
  {
   "cell_type": "markdown",
   "id": "da18cad0",
   "metadata": {},
   "source": [
    "#### Print a string that spans multiple lines, with whitespace preserved."
   ]
  },
  {
   "cell_type": "code",
   "execution_count": 36,
   "id": "75abb653",
   "metadata": {},
   "outputs": [
    {
     "name": "stdout",
     "output_type": "stream",
     "text": [
      " I Rana from Hyderabad, \n",
      "   have so many talents\n"
     ]
    }
   ],
   "source": [
    "print(\"\"\" I Rana from Hyderabad, \n",
    "   have so many talents\"\"\")"
   ]
  },
  {
   "cell_type": "markdown",
   "id": "a92e3e5b",
   "metadata": {},
   "source": [
    "####  Print a string that is coded on multiple lines but displays on a single line."
   ]
  },
  {
   "cell_type": "code",
   "execution_count": 37,
   "id": "95cf1043",
   "metadata": {},
   "outputs": [
    {
     "name": "stdout",
     "output_type": "stream",
     "text": [
      " I Rana from Hyderabad, have so many talents \n"
     ]
    }
   ],
   "source": [
    "M_lines=(\"\"\" I Rana from Hyderabad, \\\n",
    "have so many talents \"\"\")\n",
    "print(M_lines)"
   ]
  },
  {
   "cell_type": "markdown",
   "id": "8a5db4b8",
   "metadata": {},
   "source": [
    "<p id=createString></p>\n",
    "\n",
    "#### Create a string and print its length using the len() function."
   ]
  },
  {
   "cell_type": "code",
   "execution_count": 38,
   "id": "e7bf54d6",
   "metadata": {},
   "outputs": [
    {
     "data": {
      "text/plain": [
       "4"
      ]
     },
     "execution_count": 38,
     "metadata": {},
     "output_type": "execute_result"
    }
   ],
   "source": [
    "Name=\"Rana\"\n",
    "len(Name)"
   ]
  },
  {
   "cell_type": "markdown",
   "id": "69286078",
   "metadata": {},
   "source": [
    "####   Create two strings, concatenate them, and print the resulting string."
   ]
  },
  {
   "cell_type": "code",
   "execution_count": 39,
   "id": "20e82ec9",
   "metadata": {},
   "outputs": [
    {
     "name": "stdout",
     "output_type": "stream",
     "text": [
      "RanaBaby\n"
     ]
    }
   ],
   "source": [
    "F_N=\"Rana\"\n",
    "L_N=\"Baby\"\n",
    "print(F_N+L_N)"
   ]
  },
  {
   "cell_type": "markdown",
   "id": "dbcb2cbf",
   "metadata": {},
   "source": [
    "#### Create two strings and use concatenation to add a space inbetween them."
   ]
  },
  {
   "cell_type": "code",
   "execution_count": 40,
   "id": "5964ee9a",
   "metadata": {},
   "outputs": [
    {
     "name": "stdout",
     "output_type": "stream",
     "text": [
      "Rana Baby\n"
     ]
    }
   ],
   "source": [
    "F_N=\"Rana\"\n",
    "L_N=\"Baby\"\n",
    "print(F_N +\" \"+ L_N)"
   ]
  },
  {
   "cell_type": "markdown",
   "id": "ba8fd007",
   "metadata": {},
   "source": [
    "####  Print the string \"zing\" by using slice notation on the string\n",
    "#### \"bazinga\" to specify the correct range of characters"
   ]
  },
  {
   "cell_type": "code",
   "execution_count": 41,
   "id": "6997e4b7",
   "metadata": {},
   "outputs": [
    {
     "data": {
      "text/plain": [
       "'zing'"
      ]
     },
     "execution_count": 41,
     "metadata": {},
     "output_type": "execute_result"
    }
   ],
   "source": [
    "Text=\"bazinga\"\n",
    "Text[2:-1]"
   ]
  },
  {
   "cell_type": "markdown",
   "id": "9125a6f2",
   "metadata": {},
   "source": [
    "#### Write a script that converts the following strings to lowercase and uppercase:\n",
    "\n",
    "\"Animals\",\"Badger\", \"Honey Bee\", \"Honeybadger\". Print each lowercase\n",
    "string on a separate line."
   ]
  },
  {
   "cell_type": "code",
   "execution_count": 42,
   "id": "105e70f1",
   "metadata": {},
   "outputs": [
    {
     "data": {
      "text/plain": [
       "'HONEY'"
      ]
     },
     "execution_count": 42,
     "metadata": {},
     "output_type": "execute_result"
    }
   ],
   "source": [
    "L_case=\"ANIMALS\"\n",
    "L_case.lower()\n",
    "U_case=\"honey\"\n",
    "U_case.upper()"
   ]
  },
  {
   "cell_type": "markdown",
   "id": "d3b6732e",
   "metadata": {},
   "source": [
    "####  Write a script that removes whitespace from the following strings:"
   ]
  },
  {
   "cell_type": "code",
   "execution_count": 45,
   "id": "c644138f",
   "metadata": {},
   "outputs": [
    {
     "data": {
      "text/plain": [
       "'Cheeseburger'"
      ]
     },
     "execution_count": 45,
     "metadata": {},
     "output_type": "execute_result"
    }
   ],
   "source": [
    "string1 = \" Filet Mignon\"\n",
    "string2 = \"Brisket \"\n",
    "string3 = \" Cheeseburger \"\n",
    "string1.lstrip()\n",
    "string2.rstrip()\n",
    "string3.strip()"
   ]
  },
  {
   "cell_type": "markdown",
   "id": "d0b11517",
   "metadata": {},
   "source": [
    "#### Write a script that prints out the result of .startswith(\"be\") on each of the following strings:"
   ]
  },
  {
   "cell_type": "code",
   "execution_count": 47,
   "id": "18985650",
   "metadata": {},
   "outputs": [
    {
     "data": {
      "text/plain": [
       "False"
      ]
     },
     "execution_count": 47,
     "metadata": {},
     "output_type": "execute_result"
    }
   ],
   "source": [
    "string1 = \"Becomes\"\n",
    "string2 = \"becomes\"\n",
    "string3 = \"BEAR\"\n",
    "string4 = \" bEautiful\"\n",
    "\n",
    "string1.startswith(\"be\")\n",
    "string2.startswith(\"be\")\n",
    "string3.startswith(\"be\")\n",
    "string4.startswith(\"be\")"
   ]
  },
  {
   "cell_type": "markdown",
   "id": "87c34eb0",
   "metadata": {},
   "source": [
    "#### Using the above strings, write a script that uses string methods to alter each string so that .startswith(\"be\")\n",
    "#### returns True for all of them."
   ]
  },
  {
   "cell_type": "code",
   "execution_count": 59,
   "id": "7b05c782",
   "metadata": {},
   "outputs": [
    {
     "data": {
      "text/plain": [
       "True"
      ]
     },
     "execution_count": 59,
     "metadata": {},
     "output_type": "execute_result"
    }
   ],
   "source": [
    "string1 = \"Becomes\"\n",
    "string2 = \"becomes\"\n",
    "string3 = \"BEAR\"\n",
    "string4 = \" bEautiful\"\n",
    "\n",
    "string1.lower()\n",
    "string1_1=string1.lower()\n",
    "string1_1\n",
    "string1_1.startswith(\"be\")\n",
    "\n",
    "string2.startswith(\"be\")\n",
    "\n",
    "string3.lower()\n",
    "string3=string3.lower()\n",
    "string3.startswith(\"be\")\n",
    "\n",
    "\n",
    "# string4  = string4.lstrip().lower()   ~it's called string chaining.\n",
    "string4.startswith(\"be\")"
   ]
  },
  {
   "cell_type": "code",
   "execution_count": null,
   "id": "d715ff11",
   "metadata": {},
   "outputs": [],
   "source": []
  }
 ],
 "metadata": {
  "kernelspec": {
   "display_name": "Python 3 (ipykernel)",
   "language": "python",
   "name": "python3"
  },
  "language_info": {
   "codemirror_mode": {
    "name": "ipython",
    "version": 3
   },
   "file_extension": ".py",
   "mimetype": "text/x-python",
   "name": "python",
   "nbconvert_exporter": "python",
   "pygments_lexer": "ipython3",
   "version": "3.10.0"
  }
 },
 "nbformat": 4,
 "nbformat_minor": 5
}
