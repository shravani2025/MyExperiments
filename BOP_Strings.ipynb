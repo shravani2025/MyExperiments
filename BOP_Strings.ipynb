{
 "cells": [
  {
   "cell_type": "markdown",
   "id": "e1b471ec",
   "metadata": {},
   "source": [
    "# Strings"
   ]
  },
  {
   "cell_type": "markdown",
   "id": "ca2e3ce6",
   "metadata": {},
   "source": [
    "## Review Exercises."
   ]
  },
  {
   "cell_type": "markdown",
   "id": "cba31325",
   "metadata": {},
   "source": [
    "<!-- <p><a href=#createString> Create String </a></p> -->"
   ]
  },
  {
   "cell_type": "markdown",
   "id": "604a6645",
   "metadata": {},
   "source": [
    "####  Print a string that uses double quotation marks inside the string."
   ]
  },
  {
   "cell_type": "code",
   "execution_count": 34,
   "id": "0bdd7587",
   "metadata": {},
   "outputs": [
    {
     "data": {
      "text/plain": [
       "'Rana'"
      ]
     },
     "execution_count": 34,
     "metadata": {},
     "output_type": "execute_result"
    }
   ],
   "source": [
    "Name=(\"Rana\")\n",
    "Name"
   ]
  },
  {
   "cell_type": "markdown",
   "id": "252b3050",
   "metadata": {},
   "source": [
    "#### Print a string that uses an apostrophe inside the string."
   ]
  },
  {
   "cell_type": "code",
   "execution_count": 35,
   "id": "d7ed6d4d",
   "metadata": {},
   "outputs": [
    {
     "data": {
      "text/plain": [
       "\"Mr.Rana'B\""
      ]
     },
     "execution_count": 35,
     "metadata": {},
     "output_type": "execute_result"
    }
   ],
   "source": [
    "Name1=\"Mr.Rana'B\"\n",
    "Name1"
   ]
  },
  {
   "cell_type": "markdown",
   "id": "da18cad0",
   "metadata": {},
   "source": [
    "#### Print a string that spans multiple lines, with whitespace preserved."
   ]
  },
  {
   "cell_type": "code",
   "execution_count": 36,
   "id": "75abb653",
   "metadata": {},
   "outputs": [
    {
     "name": "stdout",
     "output_type": "stream",
     "text": [
      " I Rana from Hyderabad, \n",
      "   have so many talents\n"
     ]
    }
   ],
   "source": [
    "print(\"\"\" I Rana from Hyderabad, \n",
    "   have so many talents\"\"\")"
   ]
  },
  {
   "cell_type": "markdown",
   "id": "a92e3e5b",
   "metadata": {},
   "source": [
    "####  Print a string that is coded on multiple lines but displays on a single line."
   ]
  },
  {
   "cell_type": "code",
   "execution_count": 37,
   "id": "95cf1043",
   "metadata": {},
   "outputs": [
    {
     "name": "stdout",
     "output_type": "stream",
     "text": [
      " I Rana from Hyderabad, have so many talents \n"
     ]
    }
   ],
   "source": [
    "M_lines=(\"\"\" I Rana from Hyderabad, \\\n",
    "have so many talents \"\"\")\n",
    "print(M_lines)"
   ]
  },
  {
   "cell_type": "markdown",
   "id": "8a5db4b8",
   "metadata": {},
   "source": [
    "<p id=createString></p>\n",
    "\n",
    "#### Create a string and print its length using the len() function."
   ]
  },
  {
   "cell_type": "code",
   "execution_count": 38,
   "id": "e7bf54d6",
   "metadata": {},
   "outputs": [
    {
     "data": {
      "text/plain": [
       "4"
      ]
     },
     "execution_count": 38,
     "metadata": {},
     "output_type": "execute_result"
    }
   ],
   "source": [
    "Name=\"Rana\"\n",
    "len(Name)"
   ]
  },
  {
   "cell_type": "markdown",
   "id": "69286078",
   "metadata": {},
   "source": [
    "####   Create two strings, concatenate them, and print the resulting string."
   ]
  },
  {
   "cell_type": "code",
   "execution_count": 39,
   "id": "20e82ec9",
   "metadata": {},
   "outputs": [
    {
     "name": "stdout",
     "output_type": "stream",
     "text": [
      "RanaBaby\n"
     ]
    }
   ],
   "source": [
    "F_N=\"Rana\"\n",
    "L_N=\"Baby\"\n",
    "print(F_N+L_N)"
   ]
  },
  {
   "cell_type": "markdown",
   "id": "dbcb2cbf",
   "metadata": {},
   "source": [
    "#### Create two strings and use concatenation to add a space inbetween them."
   ]
  },
  {
   "cell_type": "code",
   "execution_count": 40,
   "id": "5964ee9a",
   "metadata": {},
   "outputs": [
    {
     "name": "stdout",
     "output_type": "stream",
     "text": [
      "Rana Baby\n"
     ]
    }
   ],
   "source": [
    "F_N=\"Rana\"\n",
    "L_N=\"Baby\"\n",
    "print(F_N +\" \"+ L_N)"
   ]
  },
  {
   "cell_type": "markdown",
   "id": "ba8fd007",
   "metadata": {},
   "source": [
    "####  Print the string \"zing\" by using slice notation on the string\n",
    "#### \"bazinga\" to specify the correct range of characters"
   ]
  },
  {
   "cell_type": "code",
   "execution_count": 41,
   "id": "6997e4b7",
   "metadata": {},
   "outputs": [
    {
     "data": {
      "text/plain": [
       "'zing'"
      ]
     },
     "execution_count": 41,
     "metadata": {},
     "output_type": "execute_result"
    }
   ],
   "source": [
    "Text=\"bazinga\"\n",
    "Text[2:-1]"
   ]
  },
  {
   "cell_type": "markdown",
   "id": "9125a6f2",
   "metadata": {},
   "source": [
    "#### Write a script that converts the following strings to lowercase and uppercase:\n",
    "\n",
    "\"Animals\",\"Badger\", \"Honey Bee\", \"Honeybadger\". Print each lowercase\n",
    "string on a separate line."
   ]
  },
  {
   "cell_type": "code",
   "execution_count": 42,
   "id": "105e70f1",
   "metadata": {},
   "outputs": [
    {
     "data": {
      "text/plain": [
       "'HONEY'"
      ]
     },
     "execution_count": 42,
     "metadata": {},
     "output_type": "execute_result"
    }
   ],
   "source": [
    "L_case=\"ANIMALS\"\n",
    "L_case.lower()\n",
    "U_case=\"honey\"\n",
    "U_case.upper()"
   ]
  },
  {
   "cell_type": "markdown",
   "id": "d3b6732e",
   "metadata": {},
   "source": [
    "####  Write a script that removes whitespace from the following strings:"
   ]
  },
  {
   "cell_type": "code",
   "execution_count": 45,
   "id": "c644138f",
   "metadata": {},
   "outputs": [
    {
     "data": {
      "text/plain": [
       "'Cheeseburger'"
      ]
     },
     "execution_count": 45,
     "metadata": {},
     "output_type": "execute_result"
    }
   ],
   "source": [
    "string1 = \" Filet Mignon\"\n",
    "string2 = \"Brisket \"\n",
    "string3 = \" Cheeseburger \"\n",
    "string1.lstrip()\n",
    "string2.rstrip()\n",
    "string3.strip()"
   ]
  },
  {
   "cell_type": "markdown",
   "id": "be1e3b93",
   "metadata": {},
   "source": [
    "#### Write a script that prints out the result of .startswith(\"be\") on each of the following strings:"
   ]
  },
  {
   "cell_type": "code",
   "execution_count": 47,
   "id": "b8a57822",
   "metadata": {},
   "outputs": [
    {
     "data": {
      "text/plain": [
       "False"
      ]
     },
     "execution_count": 47,
     "metadata": {},
     "output_type": "execute_result"
    }
   ],
   "source": [
    "string1 = \"Becomes\"\n",
    "string2 = \"becomes\"\n",
    "string3 = \"BEAR\"\n",
    "string4 = \" bEautiful\"\n",
    "\n",
    "string1.startswith(\"be\")\n",
    "string2.startswith(\"be\")\n",
    "string3.startswith(\"be\")\n",
    "string4.startswith(\"be\")"
   ]
  },
  {
   "cell_type": "markdown",
   "id": "c7effbed",
   "metadata": {},
   "source": [
    "#### Using the above strings, write a script that uses string methods to alter each string so that .startswith(\"be\")\n",
    "#### returns True for all of them."
   ]
  },
  {
   "cell_type": "code",
   "execution_count": 59,
   "id": "059f09a1",
   "metadata": {},
   "outputs": [
    {
     "data": {
      "text/plain": [
       "True"
      ]
     },
     "execution_count": 59,
     "metadata": {},
     "output_type": "execute_result"
    }
   ],
   "source": [
    "string1 = \"Becomes\"\n",
    "string2 = \"becomes\"\n",
    "string3 = \"BEAR\"\n",
    "string4 = \" bEautiful\"\n",
    "\n",
    "string1.lower()\n",
    "string1_1=string1.lower()\n",
    "string1_1\n",
    "string1_1.startswith(\"be\")\n",
    "\n",
    "string2.startswith(\"be\")\n",
    "\n",
    "string3.lower()\n",
    "string3=string3.lower()\n",
    "string3.startswith(\"be\")\n",
    "\n",
    "\n",
    "# string4  = string4.lstrip().lower()   ~it's called string chaining.\n",
    "string4.startswith(\"be\")"
   ]
  },
  {
   "cell_type": "markdown",
   "id": "0b9eedc0",
   "metadata": {},
   "source": [
    "#### Write a script that takes input from the user and displays that input back."
   ]
  },
  {
   "cell_type": "code",
   "execution_count": 5,
   "id": "666088be",
   "metadata": {},
   "outputs": [
    {
     "name": "stdout",
     "output_type": "stream",
     "text": [
      "Dominos\n",
      "You're fav pizza Dominos\n"
     ]
    }
   ],
   "source": [
    "Dominos=input()\n",
    "print(\"You're fav pizza\",Dominos)"
   ]
  },
  {
   "cell_type": "markdown",
   "id": "3cb466ac",
   "metadata": {},
   "source": [
    "#### Write a script that takes input from the user and displays the input in lowercase."
   ]
  },
  {
   "cell_type": "code",
   "execution_count": 1,
   "id": "80581dea",
   "metadata": {},
   "outputs": [
    {
     "name": "stdout",
     "output_type": "stream",
     "text": [
      "Cheese BUST\n",
      "You're fav pizza cheese bust\n"
     ]
    }
   ],
   "source": [
    "Dominos=input().lower()\n",
    "print(\"You're fav pizza\",Dominos)"
   ]
  },
  {
   "cell_type": "markdown",
   "id": "6575e701",
   "metadata": {},
   "source": [
    "#### Write a script that takes input from the user and displays the number of characters inputted."
   ]
  },
  {
   "cell_type": "code",
   "execution_count": 5,
   "id": "3dd3ad42",
   "metadata": {},
   "outputs": [
    {
     "name": "stdout",
     "output_type": "stream",
     "text": [
      "Enter your Name Rana\n",
      "Length of Rana is 4\n"
     ]
    }
   ],
   "source": [
    "Msg=input(\"Enter your Name \")\n",
    "print(\"Length of %s is %s\"%(Msg,len(Msg)))"
   ]
  },
  {
   "cell_type": "markdown",
   "id": "db90e94d",
   "metadata": {},
   "source": [
    "#### Create a string containing an integer, then convert that string into an actual integer object using int(). \n",
    "\n",
    "#### Test that your new object is a number by multiplying it by another number and displaying the result."
   ]
  },
  {
   "cell_type": "code",
   "execution_count": 17,
   "id": "d24f8b3f",
   "metadata": {},
   "outputs": [
    {
     "data": {
      "text/plain": [
       "20"
      ]
     },
     "execution_count": 17,
     "metadata": {},
     "output_type": "execute_result"
    }
   ],
   "source": [
    "Cakes=int(\"10\")\n",
    "Cakes=Cakes*2\n",
    "Cakes"
   ]
  },
  {
   "cell_type": "markdown",
   "id": "975edebc",
   "metadata": {},
   "source": [
    "#### Repeat the previous exercise, but use a floating-point number and float()."
   ]
  },
  {
   "cell_type": "code",
   "execution_count": 19,
   "id": "d1e785bd",
   "metadata": {},
   "outputs": [
    {
     "data": {
      "text/plain": [
       "30.900000000000002"
      ]
     },
     "execution_count": 19,
     "metadata": {},
     "output_type": "execute_result"
    }
   ],
   "source": [
    "Weight=float(\"10.3\")\n",
    "Weight=Weight*3\n",
    "Weight\n"
   ]
  },
  {
   "cell_type": "markdown",
   "id": "9fb6e963",
   "metadata": {},
   "source": [
    "####  Create a string object and an integer object, then display them sideby- side with a single print statement by using the str() function.\n",
    "\n"
   ]
  },
  {
   "cell_type": "code",
   "execution_count": 7,
   "id": "b2a8bfd4",
   "metadata": {},
   "outputs": [
    {
     "name": "stdout",
     "output_type": "stream",
     "text": [
      "Rana2\n"
     ]
    }
   ],
   "source": [
    "Text=\"Rana\"\n",
    "T=2\n",
    "print(Text + str(T) )"
   ]
  },
  {
   "cell_type": "markdown",
   "id": "2d188b17",
   "metadata": {},
   "source": [
    "######   Write a script that gets two numbers from the user using the input() function twice, multiplies the numbers together, and\n",
    "###### displays the result. If the user enters 2 and 4, your program should\n",
    "print the following text:\n",
    "\n",
    "The product of 2 and 4 is 8.0."
   ]
  },
  {
   "cell_type": "code",
   "execution_count": 7,
   "id": "baa4d43d",
   "metadata": {},
   "outputs": [
    {
     "name": "stdout",
     "output_type": "stream",
     "text": [
      "Enter the number to be mult 2\n",
      "The product of 2 is 4.0\n"
     ]
    }
   ],
   "source": [
    "num=input(\"Enter the number to be mult \")\n",
    "mult_num=float(num) * 2\n",
    "print(\"The product of 2 is\",mult_num)"
   ]
  },
  {
   "cell_type": "code",
   "execution_count": 10,
   "id": "79e799b8",
   "metadata": {},
   "outputs": [
    {
     "name": "stdout",
     "output_type": "stream",
     "text": [
      "Enter first number 2\n",
      "Enter second number 4\n",
      "The product of 2 and 4 is 8.0\n"
     ]
    }
   ],
   "source": [
    "num1=input(\"Enter first number \")\n",
    "num2=input(\"Enter second number \")\n",
    "mult=float(num1)*float(num2)\n",
    "print(\"The product of 2 and 4 is\",mult)"
   ]
  },
  {
   "cell_type": "markdown",
   "id": "644fc8e9",
   "metadata": {},
   "source": [
    "##### *  Create a float object named weight with the value 0.2, and create a string object named animal with the value \"newt\". Then use these\n",
    "##### objects to print the following string using only string concatenation:\n",
    "0.2 kg is the weight of the newt.\n",
    "\n",
    "\n",
    "\n",
    "####  * Display the same string by using the .format() method and empty {} place-holders.\n",
    "#### *  Display the same string using an f-string."
   ]
  },
  {
   "cell_type": "code",
   "execution_count": 23,
   "id": "197738c2",
   "metadata": {},
   "outputs": [
    {
     "name": "stdout",
     "output_type": "stream",
     "text": [
      "0.2 kg is the weight of the newt\n",
      "0.2 kg is the weight fo the newt\n"
     ]
    }
   ],
   "source": [
    "Weight= 0.2\n",
    "Animal= \"newt\"\n",
    "\n",
    "print(\"%s kg is the weight of the %s\"%(Weight,Animal)) #----preferable way.\n",
    "\n",
    "# string_con = str(Weight)+\" kg is the weight of the \"+Animal\n",
    "# print(string_con)"
   ]
  },
  {
   "cell_type": "markdown",
   "id": "38e29bbc",
   "metadata": {},
   "source": [
    "#### In one line of code, display the result of trying to .find() the substring \"a\" in the string \"AAA\". The result should be -1."
   ]
  },
  {
   "cell_type": "code",
   "execution_count": 26,
   "id": "d7ee3836",
   "metadata": {},
   "outputs": [
    {
     "data": {
      "text/plain": [
       "-1"
      ]
     },
     "execution_count": 26,
     "metadata": {},
     "output_type": "execute_result"
    }
   ],
   "source": [
    "Text=\"AAA\"\n",
    "Text.find(\"a\")"
   ]
  },
  {
   "cell_type": "markdown",
   "id": "2f58a058",
   "metadata": {},
   "source": [
    "#### Replace every occurrence of the character \"s\" with \"x\" in the string \"Somebody said something to Samantha.\"."
   ]
  },
  {
   "cell_type": "code",
   "execution_count": 25,
   "id": "3ead0792",
   "metadata": {},
   "outputs": [
    {
     "data": {
      "text/plain": [
       "'Somebody xaid xomething to Samantha.'"
      ]
     },
     "execution_count": 25,
     "metadata": {},
     "output_type": "execute_result"
    }
   ],
   "source": [
    "Sen=\"Somebody said something to Samantha.\"\n",
    "Sen.replace(\"s\",\"x\")"
   ]
  },
  {
   "cell_type": "markdown",
   "id": "ff587cca",
   "metadata": {},
   "source": [
    "#### Write and test a script that accepts user input using the input() function and displays the result of trying to .find() a particular\n",
    "#### letter in that input."
   ]
  },
  {
   "cell_type": "code",
   "execution_count": 28,
   "id": "2d295da6",
   "metadata": {},
   "outputs": [
    {
     "data": {
      "text/plain": [
       "7"
      ]
     },
     "execution_count": 28,
     "metadata": {},
     "output_type": "execute_result"
    }
   ],
   "source": [
    "Msg=\"I want Ice-cream Cake\"\n",
    "Msg.find(\"Ice\")"
   ]
  }
 ],
 "metadata": {
  "kernelspec": {
   "display_name": "Python 3 (ipykernel)",
   "language": "python",
   "name": "python3"
  },
  "language_info": {
   "codemirror_mode": {
    "name": "ipython",
    "version": 3
   },
   "file_extension": ".py",
   "mimetype": "text/x-python",
   "name": "python",
   "nbconvert_exporter": "python",
   "pygments_lexer": "ipython3",
   "version": "3.10.0"
  }
 },
 "nbformat": 4,
 "nbformat_minor": 5
}
