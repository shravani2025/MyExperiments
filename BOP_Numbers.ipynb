{
 "cells": [
  {
   "cell_type": "markdown",
   "id": "3804b109",
   "metadata": {},
   "source": [
    "#### Write a script that creates the two variables, num1 and num2. Both num1 and num2 should be assigned the integer literal 25,000,000, one written with underscored and one without. Print num1 and num2 on two separate lines."
   ]
  },
  {
   "cell_type": "code",
   "execution_count": 6,
   "id": "bcb36268",
   "metadata": {},
   "outputs": [
    {
     "data": {
      "text/plain": [
       "25000000.0"
      ]
     },
     "execution_count": 6,
     "metadata": {},
     "output_type": "execute_result"
    }
   ],
   "source": [
    "num1=25_000_000\n",
    "num1\n",
    "num2=25000000\n",
    "float(num2)"
   ]
  },
  {
   "cell_type": "markdown",
   "id": "303fea0a",
   "metadata": {},
   "source": [
    "#### Write a script that asks the user to input a number and then displays that number rounded to two decimal places.\n",
    "#### When run, your program should look like this:\n",
    "Enter a number: 5.432\n",
    "5.432 rounded to 2 decimal places is 5.43"
   ]
  },
  {
   "cell_type": "code",
   "execution_count": 9,
   "id": "c1f4278d",
   "metadata": {},
   "outputs": [
    {
     "data": {
      "text/plain": [
       "5.43"
      ]
     },
     "execution_count": 9,
     "metadata": {},
     "output_type": "execute_result"
    }
   ],
   "source": [
    "round(5.432,2)"
   ]
  },
  {
   "cell_type": "markdown",
   "id": "4ccd170a",
   "metadata": {},
   "source": [
    "#### Write a script that asks the user to input a number and then displays the absolute value of that number. When run, \n",
    "#### your program should look like this:\n",
    "Enter a number: -10\n",
    "The absolute value of -10 is 10.0"
   ]
  },
  {
   "cell_type": "code",
   "execution_count": 6,
   "id": "f46a519b",
   "metadata": {},
   "outputs": [
    {
     "data": {
      "text/plain": [
       "10"
      ]
     },
     "execution_count": 6,
     "metadata": {},
     "output_type": "execute_result"
    }
   ],
   "source": [
    "abs(-10)"
   ]
  },
  {
   "cell_type": "markdown",
   "id": "f7b262e7",
   "metadata": {},
   "source": [
    "#### Write a script that asks the user to input two numbers by using the input() function twice, then display whether or not the difference  between those two number is an integer.\n",
    "\n",
    "When run, your program should look like this:\n",
    "Enter a number: 1.5\n",
    "Enter another number: .5\n",
    "The difference between 1.5 and .5 is an integer? True!\n",
    "If the user inputs two numbers whose difference is not integral,\n",
    "the output should look like this:\n",
    "Enter a number: 1.5\n",
    "Enter another number: 1.0\n",
    "The difference between 1.5 and 1.0 is an integer? False!"
   ]
  },
  {
   "cell_type": "code",
   "execution_count": 14,
   "id": "a9c76b42",
   "metadata": {},
   "outputs": [
    {
     "name": "stdout",
     "output_type": "stream",
     "text": [
      "Enter a number 1.5\n",
      "Enter another number 0.5\n",
      "No, it's not an Integer\n"
     ]
    }
   ],
   "source": [
    "num1=float(input(\"Enter a number \"))\n",
    "num2=float(input(\"Enter another number \"))\n",
    "if type(abs(num1-num2)) == int:\n",
    "    print(\"Yes, it's an Integer\")\n",
    "else:\n",
    "    print(\"No, it's not an Integer\")"
   ]
  },
  {
   "cell_type": "code",
   "execution_count": 10,
   "id": "0b64407b",
   "metadata": {},
   "outputs": [],
   "source": [
    "x = 0.9"
   ]
  },
  {
   "cell_type": "code",
   "execution_count": 11,
   "id": "0960c7c3",
   "metadata": {},
   "outputs": [
    {
     "data": {
      "text/plain": [
       "float"
      ]
     },
     "execution_count": 11,
     "metadata": {},
     "output_type": "execute_result"
    }
   ],
   "source": [
    "type(abs(x))"
   ]
  }
 ],
 "metadata": {
  "kernelspec": {
   "display_name": "Python 3 (ipykernel)",
   "language": "python",
   "name": "python3"
  },
  "language_info": {
   "codemirror_mode": {
    "name": "ipython",
    "version": 3
   },
   "file_extension": ".py",
   "mimetype": "text/x-python",
   "name": "python",
   "nbconvert_exporter": "python",
   "pygments_lexer": "ipython3",
   "version": "3.10.0"
  }
 },
 "nbformat": 4,
 "nbformat_minor": 5
}
