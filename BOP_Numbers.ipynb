{
 "cells": [
  {
   "cell_type": "markdown",
   "id": "4163161b",
   "metadata": {},
   "source": [
    "#### Write a script that creates the two variables, num1 and num2. Both num1 and num2 should be assigned the integer literal 25,000,000, one written with underscored and one without. Print num1 and num2 on two separate lines."
   ]
  },
  {
   "cell_type": "code",
   "execution_count": 6,
   "id": "4c0bbd82",
   "metadata": {},
   "outputs": [
    {
     "data": {
      "text/plain": [
       "25000000.0"
      ]
     },
     "execution_count": 6,
     "metadata": {},
     "output_type": "execute_result"
    }
   ],
   "source": [
    "num1=25_000_000\n",
    "num1\n",
    "num2=25000000\n",
    "float(num2)"
   ]
  },
  {
   "cell_type": "markdown",
   "id": "f219c84d",
   "metadata": {},
   "source": [
    "#### Write a script that assigns the floating-point literal 175000.0 to the variable num using exponential notation, and then prints num in the interactive window."
   ]
  },
  {
   "cell_type": "code",
   "execution_count": null,
   "id": "d81f0af0",
   "metadata": {},
   "outputs": [],
   "source": []
  },
  {
   "cell_type": "markdown",
   "id": "87f1f05b",
   "metadata": {},
   "source": [
    "#### In IDLE’s interactive window, try and find the smallest exponent N so that 2e<N>, where <N> is replaced with your number, returns inf."
   ]
  },
  {
   "cell_type": "code",
   "execution_count": null,
   "id": "1036544e",
   "metadata": {},
   "outputs": [],
   "source": []
  },
  {
   "cell_type": "markdown",
   "id": "2ba89bf7",
   "metadata": {},
   "source": [
    "#### Before you can do anything with the user’s input, you will have to assign both calls to input() to new variables"
   ]
  },
  {
   "cell_type": "code",
   "execution_count": null,
   "id": "8461631a",
   "metadata": {},
   "outputs": [],
   "source": []
  },
  {
   "cell_type": "markdown",
   "id": "7225519c",
   "metadata": {},
   "source": [
    "#### The input() function returns a string, so you’ll need to convert the user’s input into numbers in order to do arithmetic."
   ]
  },
  {
   "cell_type": "code",
   "execution_count": null,
   "id": "6efda06e",
   "metadata": {},
   "outputs": [],
   "source": []
  },
  {
   "cell_type": "markdown",
   "id": "18422510",
   "metadata": {},
   "source": [
    "#### You can use an f-string to print the result."
   ]
  },
  {
   "cell_type": "code",
   "execution_count": null,
   "id": "1678a970",
   "metadata": {},
   "outputs": [],
   "source": []
  },
  {
   "cell_type": "markdown",
   "id": "94b65aef",
   "metadata": {},
   "source": [
    "#### You can assume that the user will enter actual numbers as input."
   ]
  },
  {
   "cell_type": "code",
   "execution_count": null,
   "id": "23e21fb8",
   "metadata": {},
   "outputs": [],
   "source": []
  },
  {
   "cell_type": "markdown",
   "id": "238ffe2c",
   "metadata": {},
   "source": [
    "#### Write a script that asks the user to input a number and then displays that number rounded to two decimal places.\n",
    "#### When run, your program should look like this:\n",
    "Enter a number: 5.432\n",
    "5.432 rounded to 2 decimal places is 5.43"
   ]
  },
  {
   "cell_type": "code",
   "execution_count": null,
   "id": "fe872a38",
   "metadata": {},
   "outputs": [],
   "source": []
  },
  {
   "cell_type": "markdown",
   "id": "6993e715",
   "metadata": {},
   "source": [
    "#### Write a script that asks the user to input a number and then displays the absolute value of that number. When run, \n",
    "#### your program should look like this:\n",
    "Enter a number: -10\n",
    "The absolute value of -10 is 10.0"
   ]
  },
  {
   "cell_type": "code",
   "execution_count": null,
   "id": "f848cfc5",
   "metadata": {},
   "outputs": [],
   "source": []
  },
  {
   "cell_type": "markdown",
   "id": "b4ce394d",
   "metadata": {},
   "source": [
    "#### Write a script that asks the user to input two numbers by using the input() function twice, then display whether or not the difference  between those two number is an integer.\n",
    "\n",
    "When run, your program should look like this:\n",
    "Enter a number: 1.5\n",
    "Enter another number: .5\n",
    "The difference between 1.5 and .5 is an integer? True!\n",
    "If the user inputs two numbers whose difference is not integral,\n",
    "the output should look like this:\n",
    "Enter a number: 1.5\n",
    "Enter another number: 1.0\n",
    "The difference between 1.5 and 1.0 is an integer? False!"
   ]
  },
  {
   "cell_type": "code",
   "execution_count": null,
   "id": "33a627ec",
   "metadata": {},
   "outputs": [],
   "source": []
  }
 ],
 "metadata": {
  "kernelspec": {
   "display_name": "Python 3 (ipykernel)",
   "language": "python",
   "name": "python3"
  },
  "language_info": {
   "codemirror_mode": {
    "name": "ipython",
    "version": 3
   },
   "file_extension": ".py",
   "mimetype": "text/x-python",
   "name": "python",
   "nbconvert_exporter": "python",
   "pygments_lexer": "ipython3",
   "version": "3.10.0"
  }
 },
 "nbformat": 4,
 "nbformat_minor": 5
}
